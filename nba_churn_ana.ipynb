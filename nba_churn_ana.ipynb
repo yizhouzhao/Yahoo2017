{
 "cells": [
  {
   "cell_type": "markdown",
   "metadata": {},
   "source": [
    "league_player: leagues played as a player, excluding commissioner leagues\n",
    "\n",
    "played_private_self: boolean. Whether he played private league with self draft\n",
    "\n",
    "played_private_live\n",
    "\n",
    "played_private_auto\n",
    "\n",
    "played_public_auto\n",
    "\n",
    "played_public_live\n",
    "\n",
    "week\n",
    "\n",
    "days_visited_per_week\n",
    "\n",
    "pty_sess_per_week\n",
    "\n",
    "cpv_nflfantasy_per_week\n",
    "\n",
    "league_commissioner\n",
    "\n",
    "league_size_max\n",
    "\n",
    "ranked_top_half: whether he ranked top half in at least one of his commissioner leagues\n",
    "\n",
    "number_of_adds\n",
    "\n",
    "number_of_roster_changes\n",
    "\n",
    "number_of_accepted_trades\n",
    "\n",
    "number_of_posted_messages \n",
    "\n",
    "as.factor(history): returned commissioner, returned player, new commissioner based on 3 year history\n",
    "\n",
    "as.factor(other_league): commissioner, player or no activity for other leagues in 2015                 \n",
    "\n"
   ]
  },
  {
   "cell_type": "code",
   "execution_count": 1,
   "metadata": {
    "collapsed": true
   },
   "outputs": [],
   "source": [
    "import os\n",
    "import pandas as pd\n",
    "import numpy as np\n",
    "import matplotlib.pyplot as plt"
   ]
  },
  {
   "cell_type": "code",
   "execution_count": 2,
   "metadata": {
    "collapsed": true
   },
   "outputs": [],
   "source": [
    "data = pd.read_csv(\"query_result (2).csv\",sep = \",\")"
   ]
  },
  {
   "cell_type": "code",
   "execution_count": 3,
   "metadata": {},
   "outputs": [
    {
     "data": {
      "text/plain": [
       "Index([u'nba2015_player_retention2.returned',\n",
       "       u'nba2015_player_retention2.guid',\n",
       "       u'nba2015_player_retention2.league_all',\n",
       "       u'nba2015_player_retention2.comissioner',\n",
       "       u'nba2015_player_retention2.comanager',\n",
       "       u'nba2015_player_retention2.assistant_comissioner',\n",
       "       u'nba2015_player_retention2.has_custom_logo',\n",
       "       u'nba2015_player_retention2.league_size_max',\n",
       "       u'nba2015_player_retention2.winning_pct_max',\n",
       "       u'nba2015_player_retention2.cash_league',\n",
       "       u'nba2015_player_retention2.ranked_top_half',\n",
       "       u'nba2015_player_retention2.ranked_top3',\n",
       "       u'nba2015_player_retention2.leagues_renewed',\n",
       "       u'nba2015_player_retention2.leagues_auto_renewed',\n",
       "       u'nba2015_player_retention2.leagues_was_renewed_and_teams_auto_filled',\n",
       "       u'nba2015_player_retention2.number_of_adds',\n",
       "       u'nba2015_player_retention2.number_of_roster_changes',\n",
       "       u'nba2015_player_retention2.number_of_accepted_trades',\n",
       "       u'nba2015_player_retention2.number_of_posted_messages',\n",
       "       u'nba2015_player_retention2.private_self_plays',\n",
       "       u'nba2015_player_retention2.private_live_plays',\n",
       "       u'nba2015_player_retention2.private_auto_plays',\n",
       "       u'nba2015_player_retention2.public_auto_plays',\n",
       "       u'nba2015_player_retention2.public_live_plays',\n",
       "       u'nba2015_player_retention2.cash_entry_fee_max',\n",
       "       u'nba2015_player_retention2.number_of_comissoners_avg',\n",
       "       u'nba2015_player_retention2.new',\n",
       "       u'nba2015_player_retention2.return_comissioner',\n",
       "       u'nba2015_player_retention2.return_player',\n",
       "       u'nba2015_player_retention2.other_league_inactive',\n",
       "       u'nba2015_player_retention2.other_league_comissioner',\n",
       "       u'nba2015_player_retention2.other_league_player'],\n",
       "      dtype='object')"
      ]
     },
     "execution_count": 3,
     "metadata": {},
     "output_type": "execute_result"
    }
   ],
   "source": [
    "data.head()\n",
    "data.columns"
   ]
  },
  {
   "cell_type": "code",
   "execution_count": 4,
   "metadata": {
    "collapsed": true
   },
   "outputs": [],
   "source": [
    "#Rename the column\n",
    "newColumns = []\n",
    "for column in data.columns:\n",
    "    newColumns.append(column.split(\".\")[-1])\n",
    "\n",
    "data.columns = newColumns"
   ]
  },
  {
   "cell_type": "code",
   "execution_count": 5,
   "metadata": {},
   "outputs": [
    {
     "data": {
      "text/html": [
       "<div>\n",
       "<style>\n",
       "    .dataframe thead tr:only-child th {\n",
       "        text-align: right;\n",
       "    }\n",
       "\n",
       "    .dataframe thead th {\n",
       "        text-align: left;\n",
       "    }\n",
       "\n",
       "    .dataframe tbody tr th {\n",
       "        vertical-align: top;\n",
       "    }\n",
       "</style>\n",
       "<table border=\"1\" class=\"dataframe\">\n",
       "  <thead>\n",
       "    <tr style=\"text-align: right;\">\n",
       "      <th></th>\n",
       "      <th>returned</th>\n",
       "      <th>guid</th>\n",
       "      <th>league_all</th>\n",
       "      <th>comissioner</th>\n",
       "      <th>comanager</th>\n",
       "      <th>assistant_comissioner</th>\n",
       "      <th>has_custom_logo</th>\n",
       "      <th>league_size_max</th>\n",
       "      <th>cash_league</th>\n",
       "      <th>ranked_top_half</th>\n",
       "      <th>...</th>\n",
       "      <th>public_auto_plays</th>\n",
       "      <th>public_live_plays</th>\n",
       "      <th>cash_entry_fee_max</th>\n",
       "      <th>number_of_comissoners_avg</th>\n",
       "      <th>new</th>\n",
       "      <th>return_comissioner</th>\n",
       "      <th>return_player</th>\n",
       "      <th>other_league_inactive</th>\n",
       "      <th>other_league_comissioner</th>\n",
       "      <th>other_league_player</th>\n",
       "    </tr>\n",
       "  </thead>\n",
       "  <tbody>\n",
       "    <tr>\n",
       "      <th>0</th>\n",
       "      <td>0</td>\n",
       "      <td>2224DLXMMZ7JSCFYISHYFPFQV4</td>\n",
       "      <td>1</td>\n",
       "      <td>0</td>\n",
       "      <td>0</td>\n",
       "      <td>0</td>\n",
       "      <td>0</td>\n",
       "      <td>12</td>\n",
       "      <td>0</td>\n",
       "      <td>0</td>\n",
       "      <td>...</td>\n",
       "      <td>0</td>\n",
       "      <td>0</td>\n",
       "      <td>0</td>\n",
       "      <td>1.0</td>\n",
       "      <td>0</td>\n",
       "      <td>0</td>\n",
       "      <td>1</td>\n",
       "      <td>0</td>\n",
       "      <td>0</td>\n",
       "      <td>1</td>\n",
       "    </tr>\n",
       "    <tr>\n",
       "      <th>1</th>\n",
       "      <td>0</td>\n",
       "      <td>2224VVHXYS3AL2RR7N5IOHQMII</td>\n",
       "      <td>1</td>\n",
       "      <td>0</td>\n",
       "      <td>0</td>\n",
       "      <td>0</td>\n",
       "      <td>0</td>\n",
       "      <td>12</td>\n",
       "      <td>0</td>\n",
       "      <td>0</td>\n",
       "      <td>...</td>\n",
       "      <td>0</td>\n",
       "      <td>0</td>\n",
       "      <td>0</td>\n",
       "      <td>1.0</td>\n",
       "      <td>0</td>\n",
       "      <td>0</td>\n",
       "      <td>1</td>\n",
       "      <td>1</td>\n",
       "      <td>0</td>\n",
       "      <td>0</td>\n",
       "    </tr>\n",
       "    <tr>\n",
       "      <th>2</th>\n",
       "      <td>1</td>\n",
       "      <td>22264CZFQ2KSRR6FV37JA42HHQ</td>\n",
       "      <td>1</td>\n",
       "      <td>0</td>\n",
       "      <td>0</td>\n",
       "      <td>0</td>\n",
       "      <td>1</td>\n",
       "      <td>10</td>\n",
       "      <td>0</td>\n",
       "      <td>1</td>\n",
       "      <td>...</td>\n",
       "      <td>0</td>\n",
       "      <td>0</td>\n",
       "      <td>0</td>\n",
       "      <td>1.0</td>\n",
       "      <td>0</td>\n",
       "      <td>1</td>\n",
       "      <td>0</td>\n",
       "      <td>0</td>\n",
       "      <td>1</td>\n",
       "      <td>0</td>\n",
       "    </tr>\n",
       "    <tr>\n",
       "      <th>3</th>\n",
       "      <td>1</td>\n",
       "      <td>222BRXZHDEJKYUPATVLVOAQG6Y</td>\n",
       "      <td>1</td>\n",
       "      <td>0</td>\n",
       "      <td>0</td>\n",
       "      <td>0</td>\n",
       "      <td>0</td>\n",
       "      <td>12</td>\n",
       "      <td>0</td>\n",
       "      <td>1</td>\n",
       "      <td>...</td>\n",
       "      <td>0</td>\n",
       "      <td>0</td>\n",
       "      <td>0</td>\n",
       "      <td>1.0</td>\n",
       "      <td>0</td>\n",
       "      <td>1</td>\n",
       "      <td>0</td>\n",
       "      <td>1</td>\n",
       "      <td>0</td>\n",
       "      <td>0</td>\n",
       "    </tr>\n",
       "    <tr>\n",
       "      <th>4</th>\n",
       "      <td>1</td>\n",
       "      <td>222HAPRSN6R4NGWHPFWA2XQGEQ</td>\n",
       "      <td>1</td>\n",
       "      <td>0</td>\n",
       "      <td>0</td>\n",
       "      <td>0</td>\n",
       "      <td>0</td>\n",
       "      <td>13</td>\n",
       "      <td>0</td>\n",
       "      <td>1</td>\n",
       "      <td>...</td>\n",
       "      <td>0</td>\n",
       "      <td>0</td>\n",
       "      <td>0</td>\n",
       "      <td>1.0</td>\n",
       "      <td>0</td>\n",
       "      <td>0</td>\n",
       "      <td>1</td>\n",
       "      <td>1</td>\n",
       "      <td>0</td>\n",
       "      <td>0</td>\n",
       "    </tr>\n",
       "  </tbody>\n",
       "</table>\n",
       "<p>5 rows × 31 columns</p>\n",
       "</div>"
      ],
      "text/plain": [
       "   returned                        guid  league_all  comissioner  comanager  \\\n",
       "0         0  2224DLXMMZ7JSCFYISHYFPFQV4           1            0          0   \n",
       "1         0  2224VVHXYS3AL2RR7N5IOHQMII           1            0          0   \n",
       "2         1  22264CZFQ2KSRR6FV37JA42HHQ           1            0          0   \n",
       "3         1  222BRXZHDEJKYUPATVLVOAQG6Y           1            0          0   \n",
       "4         1  222HAPRSN6R4NGWHPFWA2XQGEQ           1            0          0   \n",
       "\n",
       "   assistant_comissioner  has_custom_logo  league_size_max  cash_league  \\\n",
       "0                      0                0               12            0   \n",
       "1                      0                0               12            0   \n",
       "2                      0                1               10            0   \n",
       "3                      0                0               12            0   \n",
       "4                      0                0               13            0   \n",
       "\n",
       "   ranked_top_half         ...           public_auto_plays  public_live_plays  \\\n",
       "0                0         ...                           0                  0   \n",
       "1                0         ...                           0                  0   \n",
       "2                1         ...                           0                  0   \n",
       "3                1         ...                           0                  0   \n",
       "4                1         ...                           0                  0   \n",
       "\n",
       "   cash_entry_fee_max  number_of_comissoners_avg  new  return_comissioner  \\\n",
       "0                   0                        1.0    0                   0   \n",
       "1                   0                        1.0    0                   0   \n",
       "2                   0                        1.0    0                   1   \n",
       "3                   0                        1.0    0                   1   \n",
       "4                   0                        1.0    0                   0   \n",
       "\n",
       "   return_player  other_league_inactive  other_league_comissioner  \\\n",
       "0              1                      0                         0   \n",
       "1              1                      1                         0   \n",
       "2              0                      0                         1   \n",
       "3              0                      1                         0   \n",
       "4              1                      1                         0   \n",
       "\n",
       "   other_league_player  \n",
       "0                    1  \n",
       "1                    0  \n",
       "2                    0  \n",
       "3                    0  \n",
       "4                    0  \n",
       "\n",
       "[5 rows x 31 columns]"
      ]
     },
     "execution_count": 5,
     "metadata": {},
     "output_type": "execute_result"
    }
   ],
   "source": [
    "# Drop NaN columns\n",
    "try:\n",
    "    del data['winning_pct_max']\n",
    "except:\n",
    "    print(\"Already deleted\")\n",
    "\n",
    "data.head()"
   ]
  },
  {
   "cell_type": "code",
   "execution_count": 49,
   "metadata": {},
   "outputs": [
    {
     "name": "stderr",
     "output_type": "stream",
     "text": [
      "/Users/yizhouz/anaconda/lib/python2.7/site-packages/ipykernel_launcher.py:9: DeprecationWarning: \n",
      ".ix is deprecated. Please use\n",
      ".loc for label based indexing or\n",
      ".iloc for positional indexing\n",
      "\n",
      "See the documentation here:\n",
      "http://pandas.pydata.org/pandas-docs/stable/indexing.html#deprecate_ix\n",
      "  if __name__ == '__main__':\n",
      "/Users/yizhouz/anaconda/lib/python2.7/site-packages/ipykernel_launcher.py:12: DeprecationWarning: \n",
      ".ix is deprecated. Please use\n",
      ".loc for label based indexing or\n",
      ".iloc for positional indexing\n",
      "\n",
      "See the documentation here:\n",
      "http://pandas.pydata.org/pandas-docs/stable/indexing.html#deprecate_ix\n",
      "  if sys.path[0] == '':\n"
     ]
    }
   ],
   "source": [
    "#Prepare training and testing dataset\n",
    "from sklearn.model_selection import train_test_split\n",
    "from sklearn import preprocessing\n",
    "#data.ix[:,2:len(data.columns)] = preprocessing.scale(data.ix[:,2:len(data.columns)])\n",
    "\n",
    "train, test = train_test_split(data, test_size = 0.2)\n",
    "\n",
    "train_y = train['returned']\n",
    "train_x = train.ix[:,2:len(train.columns)]\n",
    "\n",
    "test_y = test['returned']\n",
    "test_x = test.ix[:,2:len(train.columns)]\n"
   ]
  },
  {
   "cell_type": "code",
   "execution_count": 55,
   "metadata": {},
   "outputs": [
    {
     "data": {
      "text/html": [
       "<div>\n",
       "<style>\n",
       "    .dataframe thead tr:only-child th {\n",
       "        text-align: right;\n",
       "    }\n",
       "\n",
       "    .dataframe thead th {\n",
       "        text-align: left;\n",
       "    }\n",
       "\n",
       "    .dataframe tbody tr th {\n",
       "        vertical-align: top;\n",
       "    }\n",
       "</style>\n",
       "<table border=\"1\" class=\"dataframe\">\n",
       "  <thead>\n",
       "    <tr style=\"text-align: right;\">\n",
       "      <th></th>\n",
       "      <th>league_all</th>\n",
       "      <th>comissioner</th>\n",
       "      <th>comanager</th>\n",
       "      <th>assistant_comissioner</th>\n",
       "      <th>has_custom_logo</th>\n",
       "      <th>league_size_max</th>\n",
       "      <th>cash_league</th>\n",
       "      <th>ranked_top_half</th>\n",
       "      <th>ranked_top3</th>\n",
       "      <th>leagues_renewed</th>\n",
       "      <th>...</th>\n",
       "      <th>public_auto_plays</th>\n",
       "      <th>public_live_plays</th>\n",
       "      <th>cash_entry_fee_max</th>\n",
       "      <th>number_of_comissoners_avg</th>\n",
       "      <th>new</th>\n",
       "      <th>return_comissioner</th>\n",
       "      <th>return_player</th>\n",
       "      <th>other_league_inactive</th>\n",
       "      <th>other_league_comissioner</th>\n",
       "      <th>other_league_player</th>\n",
       "    </tr>\n",
       "  </thead>\n",
       "  <tbody>\n",
       "    <tr>\n",
       "      <th>65806</th>\n",
       "      <td>2</td>\n",
       "      <td>0</td>\n",
       "      <td>0</td>\n",
       "      <td>0</td>\n",
       "      <td>0</td>\n",
       "      <td>6</td>\n",
       "      <td>0</td>\n",
       "      <td>1</td>\n",
       "      <td>1</td>\n",
       "      <td>0</td>\n",
       "      <td>...</td>\n",
       "      <td>0</td>\n",
       "      <td>0</td>\n",
       "      <td>0</td>\n",
       "      <td>1.0</td>\n",
       "      <td>1</td>\n",
       "      <td>0</td>\n",
       "      <td>0</td>\n",
       "      <td>1</td>\n",
       "      <td>0</td>\n",
       "      <td>0</td>\n",
       "    </tr>\n",
       "    <tr>\n",
       "      <th>289990</th>\n",
       "      <td>1</td>\n",
       "      <td>0</td>\n",
       "      <td>0</td>\n",
       "      <td>0</td>\n",
       "      <td>0</td>\n",
       "      <td>10</td>\n",
       "      <td>0</td>\n",
       "      <td>1</td>\n",
       "      <td>1</td>\n",
       "      <td>0</td>\n",
       "      <td>...</td>\n",
       "      <td>0</td>\n",
       "      <td>0</td>\n",
       "      <td>0</td>\n",
       "      <td>1.0</td>\n",
       "      <td>0</td>\n",
       "      <td>0</td>\n",
       "      <td>1</td>\n",
       "      <td>1</td>\n",
       "      <td>0</td>\n",
       "      <td>0</td>\n",
       "    </tr>\n",
       "    <tr>\n",
       "      <th>26571</th>\n",
       "      <td>1</td>\n",
       "      <td>0</td>\n",
       "      <td>0</td>\n",
       "      <td>0</td>\n",
       "      <td>1</td>\n",
       "      <td>10</td>\n",
       "      <td>0</td>\n",
       "      <td>0</td>\n",
       "      <td>0</td>\n",
       "      <td>0</td>\n",
       "      <td>...</td>\n",
       "      <td>0</td>\n",
       "      <td>0</td>\n",
       "      <td>0</td>\n",
       "      <td>1.0</td>\n",
       "      <td>1</td>\n",
       "      <td>0</td>\n",
       "      <td>0</td>\n",
       "      <td>1</td>\n",
       "      <td>0</td>\n",
       "      <td>0</td>\n",
       "    </tr>\n",
       "    <tr>\n",
       "      <th>287716</th>\n",
       "      <td>2</td>\n",
       "      <td>0</td>\n",
       "      <td>0</td>\n",
       "      <td>0</td>\n",
       "      <td>0</td>\n",
       "      <td>12</td>\n",
       "      <td>0</td>\n",
       "      <td>0</td>\n",
       "      <td>0</td>\n",
       "      <td>0</td>\n",
       "      <td>...</td>\n",
       "      <td>0</td>\n",
       "      <td>1</td>\n",
       "      <td>0</td>\n",
       "      <td>0.5</td>\n",
       "      <td>1</td>\n",
       "      <td>0</td>\n",
       "      <td>0</td>\n",
       "      <td>1</td>\n",
       "      <td>0</td>\n",
       "      <td>0</td>\n",
       "    </tr>\n",
       "    <tr>\n",
       "      <th>177700</th>\n",
       "      <td>1</td>\n",
       "      <td>0</td>\n",
       "      <td>0</td>\n",
       "      <td>0</td>\n",
       "      <td>0</td>\n",
       "      <td>12</td>\n",
       "      <td>0</td>\n",
       "      <td>1</td>\n",
       "      <td>1</td>\n",
       "      <td>0</td>\n",
       "      <td>...</td>\n",
       "      <td>0</td>\n",
       "      <td>0</td>\n",
       "      <td>0</td>\n",
       "      <td>1.0</td>\n",
       "      <td>1</td>\n",
       "      <td>0</td>\n",
       "      <td>0</td>\n",
       "      <td>1</td>\n",
       "      <td>0</td>\n",
       "      <td>0</td>\n",
       "    </tr>\n",
       "  </tbody>\n",
       "</table>\n",
       "<p>5 rows × 29 columns</p>\n",
       "</div>"
      ],
      "text/plain": [
       "        league_all  comissioner  comanager  assistant_comissioner  \\\n",
       "65806            2            0          0                      0   \n",
       "289990           1            0          0                      0   \n",
       "26571            1            0          0                      0   \n",
       "287716           2            0          0                      0   \n",
       "177700           1            0          0                      0   \n",
       "\n",
       "        has_custom_logo  league_size_max  cash_league  ranked_top_half  \\\n",
       "65806                 0                6            0                1   \n",
       "289990                0               10            0                1   \n",
       "26571                 1               10            0                0   \n",
       "287716                0               12            0                0   \n",
       "177700                0               12            0                1   \n",
       "\n",
       "        ranked_top3  leagues_renewed         ...           public_auto_plays  \\\n",
       "65806             1                0         ...                           0   \n",
       "289990            1                0         ...                           0   \n",
       "26571             0                0         ...                           0   \n",
       "287716            0                0         ...                           0   \n",
       "177700            1                0         ...                           0   \n",
       "\n",
       "        public_live_plays  cash_entry_fee_max  number_of_comissoners_avg  new  \\\n",
       "65806                   0                   0                        1.0    1   \n",
       "289990                  0                   0                        1.0    0   \n",
       "26571                   0                   0                        1.0    1   \n",
       "287716                  1                   0                        0.5    1   \n",
       "177700                  0                   0                        1.0    1   \n",
       "\n",
       "        return_comissioner  return_player  other_league_inactive  \\\n",
       "65806                    0              0                      1   \n",
       "289990                   0              1                      1   \n",
       "26571                    0              0                      1   \n",
       "287716                   0              0                      1   \n",
       "177700                   0              0                      1   \n",
       "\n",
       "        other_league_comissioner  other_league_player  \n",
       "65806                          0                    0  \n",
       "289990                         0                    0  \n",
       "26571                          0                    0  \n",
       "287716                         0                    0  \n",
       "177700                         0                    0  \n",
       "\n",
       "[5 rows x 29 columns]"
      ]
     },
     "execution_count": 55,
     "metadata": {},
     "output_type": "execute_result"
    }
   ],
   "source": [
    "test_x.head()"
   ]
  },
  {
   "cell_type": "markdown",
   "metadata": {},
   "source": [
    "## Exploratory data analysis"
   ]
  },
  {
   "cell_type": "code",
   "execution_count": 8,
   "metadata": {},
   "outputs": [
    {
     "name": "stdout",
     "output_type": "stream",
     "text": [
      "('totual number of nba fantasy users: ', 312499)\n",
      "('percentage of those users returned in 2016', 0.4632526824085837)\n"
     ]
    }
   ],
   "source": [
    "#total number of users in 2015\n",
    "print('totual number of nba fantasy users: ',len(data))\n",
    "\n",
    "#percentage of users returned in 2016\n",
    "print('percentage of those users returned in 2016',np.sum(data['returned'])/312499.0)"
   ]
  },
  {
   "cell_type": "markdown",
   "metadata": {},
   "source": [
    "## Training Part"
   ]
  },
  {
   "cell_type": "markdown",
   "metadata": {},
   "source": [
    "## 1. Decision Tree"
   ]
  },
  {
   "cell_type": "code",
   "execution_count": 9,
   "metadata": {},
   "outputs": [
    {
     "name": "stdout",
     "output_type": "stream",
     "text": [
      "('training score: ', 0.76971107884431533)\n",
      "('testing score:', 0.77011200000000002)\n"
     ]
    }
   ],
   "source": [
    "from sklearn import tree\n",
    "clf = tree.DecisionTreeClassifier(max_depth=4,max_features=None, max_leaf_nodes=None, min_samples_leaf=5,\n",
    "            min_samples_split=2, min_weight_fraction_leaf=0.0,\n",
    "            presort=False, random_state=100, splitter='best')\n",
    "clf.fit(train_x,train_y)\n",
    "\n",
    "#initial training and testing scores\n",
    "print(\"training score: \",clf.score(train_x,train_y))\n",
    "print(\"testing score:\", clf.score(test_x,test_y))"
   ]
  },
  {
   "cell_type": "code",
   "execution_count": 10,
   "metadata": {
    "collapsed": true
   },
   "outputs": [],
   "source": [
    "with open(\"tree.dot\", 'w') as f:\n",
    "    f = tree.export_graphviz(clf, out_file=f,feature_names= \\\n",
    "                             train_x.columns,class_names=[\"Leave\",\"Returned\"])"
   ]
  },
  {
   "cell_type": "code",
   "execution_count": 11,
   "metadata": {},
   "outputs": [
    {
     "data": {
      "text/plain": [
       "array([ 0.        ,  0.        ,  0.        ,  0.        ,  0.        ,\n",
       "        0.00599886,  0.        ,  0.        ,  0.        ,  0.17155666,\n",
       "        0.        ,  0.        ,  0.05452133,  0.6054788 ,  0.        ,\n",
       "        0.        ,  0.        ,  0.        ,  0.        ,  0.        ,\n",
       "        0.        ,  0.        ,  0.        ,  0.16244435,  0.        ,\n",
       "        0.        ,  0.        ,  0.        ,  0.        ])"
      ]
     },
     "execution_count": 11,
     "metadata": {},
     "output_type": "execute_result"
    }
   ],
   "source": [
    "##See tree 1.jpg for details\n",
    "clf.feature_importances_"
   ]
  },
  {
   "cell_type": "code",
   "execution_count": 12,
   "metadata": {},
   "outputs": [
    {
     "data": {
      "text/plain": [
       "('ranked_top_half',\n",
       " 'leagues_auto_renewed',\n",
       " 'leagues_was_renewed_and_teams_auto_filled',\n",
       " 'private_self_plays')"
      ]
     },
     "execution_count": 12,
     "metadata": {},
     "output_type": "execute_result"
    }
   ],
   "source": [
    "train.columns[9],train.columns[12],train.columns[13],train.columns[18]"
   ]
  },
  {
   "cell_type": "markdown",
   "metadata": {},
   "source": [
    "## 2.Random Forest"
   ]
  },
  {
   "cell_type": "code",
   "execution_count": 13,
   "metadata": {
    "collapsed": true
   },
   "outputs": [],
   "source": [
    "from sklearn.ensemble import ExtraTreesClassifier"
   ]
  },
  {
   "cell_type": "code",
   "execution_count": 14,
   "metadata": {
    "collapsed": true
   },
   "outputs": [],
   "source": [
    "# Build a forest and compute the feature importances\n",
    "forest = ExtraTreesClassifier(n_estimators = 10,max_depth=5,\n",
    "                              random_state=0)"
   ]
  },
  {
   "cell_type": "code",
   "execution_count": 15,
   "metadata": {},
   "outputs": [
    {
     "data": {
      "text/plain": [
       "ExtraTreesClassifier(bootstrap=False, class_weight=None, criterion='gini',\n",
       "           max_depth=5, max_features='auto', max_leaf_nodes=None,\n",
       "           min_impurity_split=1e-07, min_samples_leaf=1,\n",
       "           min_samples_split=2, min_weight_fraction_leaf=0.0,\n",
       "           n_estimators=10, n_jobs=1, oob_score=False, random_state=0,\n",
       "           verbose=0, warm_start=False)"
      ]
     },
     "execution_count": 15,
     "metadata": {},
     "output_type": "execute_result"
    }
   ],
   "source": [
    "forest.fit(train_x,train_y)"
   ]
  },
  {
   "cell_type": "code",
   "execution_count": 16,
   "metadata": {},
   "outputs": [
    {
     "name": "stdout",
     "output_type": "stream",
     "text": [
      "('training score: ', 0.73704694818779271)\n",
      "('testing score:', 0.73806400000000005)\n"
     ]
    }
   ],
   "source": [
    "#initial training and testing scores\n",
    "print(\"training score: \",forest.score(train_x,train_y))\n",
    "print(\"testing score:\", forest.score(test_x,test_y))"
   ]
  },
  {
   "cell_type": "code",
   "execution_count": 17,
   "metadata": {
    "collapsed": true
   },
   "outputs": [],
   "source": [
    "importances = forest.feature_importances_\n",
    "std = np.std([tree.feature_importances_ for tree in forest.estimators_],\n",
    "             axis=0)\n",
    "indices = np.argsort(importances)[::-1]"
   ]
  },
  {
   "cell_type": "code",
   "execution_count": 43,
   "metadata": {},
   "outputs": [
    {
     "name": "stdout",
     "output_type": "stream",
     "text": [
      "Feature ranking:\n",
      "1. feature new (0.370260)\n",
      "2. feature return_player (0.228108)\n",
      "3. feature leagues_renewed (0.121405)\n",
      "4. feature ranked_top_half (0.072809)\n",
      "5. feature has_custom_logo (0.051890)\n",
      "6. feature return_comissioner (0.046638)\n",
      "7. feature other_league_inactive (0.035157)\n",
      "8. feature ranked_top3 (0.017188)\n",
      "9. feature league_size_max (0.016451)\n",
      "10. feature private_live_plays (0.008781)\n",
      "11. feature number_of_adds (0.006874)\n",
      "12. feature number_of_comissoners_avg (0.005146)\n",
      "13. feature number_of_roster_changes (0.004145)\n",
      "14. feature comissioner (0.003967)\n",
      "15. feature other_league_player (0.003266)\n",
      "16. feature leagues_auto_renewed (0.002144)\n",
      "17. feature assistant_comissioner (0.002018)\n",
      "18. feature other_league_comissioner (0.001654)\n",
      "19. feature number_of_posted_messages (0.000605)\n",
      "20. feature private_auto_plays (0.000425)\n",
      "21. feature cash_league (0.000361)\n",
      "22. feature public_live_plays (0.000170)\n",
      "23. feature number_of_accepted_trades (0.000167)\n",
      "24. feature league_all (0.000166)\n",
      "25. feature leagues_was_renewed_and_teams_auto_filled (0.000085)\n",
      "26. feature cash_entry_fee_max (0.000063)\n",
      "27. feature public_auto_plays (0.000039)\n",
      "28. feature comanager (0.000021)\n",
      "29. feature private_self_plays (0.000000)\n"
     ]
    },
    {
     "data": {
      "image/png": "[encoded data removed]",
      "text/plain": [
       "<matplotlib.figure.Figure at 0x118017050>"
      ]
     },
     "metadata": {},
     "output_type": "display_data"
    }
   ],
   "source": [
    "# Print the feature ranking\n",
    "print(\"Feature ranking:\")\n",
    "\n",
    "for f in range(train_x.shape[1]):\n",
    "    print(\"%d. feature %s (%f)\" % (f + 1, train_x.columns[indices[f]], importances[indices[f]]))\n",
    "\n",
    "# Plot the feature importances of the forest\n",
    "plt.figure()\n",
    "plt.title(\"Feature importances\")\n",
    "plt.bar(range(train_x.shape[1]), importances[indices],\n",
    "       color=\"r\")#yerr=std[indices], align=\"center\")\n",
    "plt.xticks(range(train_x.shape[1]), indices)\n",
    "plt.xlim([-1, train_x.shape[1]])\n",
    "plt.show()"
   ]
  },
  {
   "cell_type": "code",
   "execution_count": 19,
   "metadata": {},
   "outputs": [
    {
     "name": "stdout",
     "output_type": "stream",
     "text": [
      "Index([u'new', u'return_player', u'leagues_renewed', u'ranked_top_half',\n",
      "       u'has_custom_logo', u'return_comissioner', u'other_league_inactive',\n",
      "       u'ranked_top3', u'league_size_max', u'private_live_plays'],\n",
      "      dtype='object')\n"
     ]
    }
   ],
   "source": [
    "#most important five \n",
    "print(train_x.columns[indices[:10]])"
   ]
  },
  {
   "cell_type": "markdown",
   "metadata": {
    "collapsed": true
   },
   "source": [
    "## 3. Logistic Regression"
   ]
  },
  {
   "cell_type": "code",
   "execution_count": 50,
   "metadata": {
    "collapsed": true
   },
   "outputs": [],
   "source": [
    "from sklearn.linear_model import LogisticRegression"
   ]
  },
  {
   "cell_type": "code",
   "execution_count": 51,
   "metadata": {},
   "outputs": [
    {
     "data": {
      "text/plain": [
       "LogisticRegression(C=1, class_weight=None, dual=False, fit_intercept=True,\n",
       "          intercept_scaling=1, max_iter=100, multi_class='ovr', n_jobs=1,\n",
       "          penalty='l1', random_state=None, solver='liblinear', tol=0.001,\n",
       "          verbose=0, warm_start=False)"
      ]
     },
     "execution_count": 51,
     "metadata": {},
     "output_type": "execute_result"
    }
   ],
   "source": [
    "clf_l1_LR = LogisticRegression(C=1, penalty='l1', tol=0.001)\n",
    "clf_l1_LR.fit(train_x,train_y)"
   ]
  },
  {
   "cell_type": "code",
   "execution_count": 52,
   "metadata": {},
   "outputs": [
    {
     "name": "stdout",
     "output_type": "stream",
     "text": [
      "('training score: ', 0.77814711258845037)\n",
      "('testing score:', 0.77780800000000005)\n"
     ]
    }
   ],
   "source": [
    "#initial training and testing scores\n",
    "print(\"training score: \",clf_l1_LR.score(train_x,train_y))\n",
    "print(\"testing score:\", clf_l1_LR.score(test_x,test_y))"
   ]
  },
  {
   "cell_type": "code",
   "execution_count": 53,
   "metadata": {},
   "outputs": [
    {
     "data": {
      "text/plain": [
       "array([ 0.07332295,  0.00467404, -0.9854309 ,  0.06612333,  0.19813325,\n",
       "        0.06766444,  0.00881156,  0.10495851,  0.08932152,  0.81676682,\n",
       "        0.51661934, -0.11380453,  0.01463897,  0.00186022,  0.0300358 ,\n",
       "        0.00338019,  0.05246134,  0.14996369, -0.04533228,  0.45861558,\n",
       "        0.02412692,  0.00318989,  0.24858692, -1.52156306, -0.44858163,\n",
       "       -0.43648885, -1.15666796, -0.76746469, -0.78873906])"
      ]
     },
     "execution_count": 53,
     "metadata": {},
     "output_type": "execute_result"
    }
   ],
   "source": [
    "coef_l1_LR = clf_l1_LR.coef_.ravel()\n",
    "coef_l1_LR"
   ]
  },
  {
   "cell_type": "code",
   "execution_count": 54,
   "metadata": {},
   "outputs": [
    {
     "data": {
      "text/plain": [
       "Index([u'league_all', u'comissioner', u'comanager', u'assistant_comissioner',\n",
       "       u'has_custom_logo', u'league_size_max', u'cash_league',\n",
       "       u'ranked_top_half', u'ranked_top3', u'leagues_renewed',\n",
       "       u'leagues_auto_renewed', u'leagues_was_renewed_and_teams_auto_filled',\n",
       "       u'number_of_adds', u'number_of_roster_changes',\n",
       "       u'number_of_accepted_trades', u'number_of_posted_messages',\n",
       "       u'private_self_plays', u'private_live_plays', u'private_auto_plays',\n",
       "       u'public_auto_plays', u'public_live_plays', u'cash_entry_fee_max',\n",
       "       u'number_of_comissoners_avg', u'new', u'return_comissioner',\n",
       "       u'return_player', u'other_league_inactive', u'other_league_comissioner',\n",
       "       u'other_league_player'],\n",
       "      dtype='object')"
      ]
     },
     "execution_count": 54,
     "metadata": {},
     "output_type": "execute_result"
    }
   ],
   "source": [
    "train_x.columns"
   ]
  },
  {
   "cell_type": "code",
   "execution_count": 42,
   "metadata": {},
   "outputs": [
    {
     "data": {
      "text/plain": [
       "[('leagues_renewed', 0.69792552337789038),\n",
       " ('number_of_roster_changes', 0.52759114320361644),\n",
       " ('league_all', 0.48825805517599119),\n",
       " ('new', -0.48155576565153679),\n",
       " ('number_of_adds', 0.37921074421393947),\n",
       " ('league_size_max', 0.25622635408004663),\n",
       " ('other_league_inactive', -0.23577187620273288),\n",
       " ('private_live_plays', 0.19884993996803446),\n",
       " ('number_of_comissoners_avg', 0.1656453198982622),\n",
       " ('number_of_accepted_trades', 0.14853386315971748),\n",
       " ('has_custom_logo', 0.080752826256044075),\n",
       " ('leagues_auto_renewed', 0.078528165135226785),\n",
       " ('comanager', -0.074457474044531943),\n",
       " ('public_live_plays', 0.073547989893852889),\n",
       " ('public_auto_plays', 0.060788980113568994),\n",
       " ('return_player', 0.059881098830499899),\n",
       " ('ranked_top3', 0.053296203757533973),\n",
       " ('other_league_player', -0.049600652195127125),\n",
       " ('ranked_top_half', 0.038115800090361786),\n",
       " ('other_league_comissioner', -0.033149145487921403),\n",
       " ('private_auto_plays', -0.029826355064128875),\n",
       " ('return_comissioner', 0.026218752992376717),\n",
       " ('number_of_posted_messages', 0.017933479807082757),\n",
       " ('comissioner', 0.013116711566071009),\n",
       " ('leagues_was_renewed_and_teams_auto_filled', -0.011122993877571076),\n",
       " ('private_self_plays', 0.0045048870008315804),\n",
       " ('cash_league', 0.0043046146320349669),\n",
       " ('cash_entry_fee_max', 0.0042027354796180787),\n",
       " ('assistant_comissioner', 0.0040098813091200931)]"
      ]
     },
     "execution_count": 42,
     "metadata": {},
     "output_type": "execute_result"
    }
   ],
   "source": [
    "[(x,y) for (y,x) in sorted(zip(coef_l1_LR,train_x.columns), key=lambda pair: np.abs(pair[0]), reverse=True)] "
   ]
  },
  {
   "cell_type": "code",
   "execution_count": 31,
   "metadata": {},
   "outputs": [
    {
     "name": "stdout",
     "output_type": "stream",
     "text": [
      "C=0.01\n",
      "Sparsity with L1 penalty: 0.00%\n"
     ]
    }
   ],
   "source": [
    "print(\"C=%.2f\" % 0.01)\n",
    "sparsity_l1_LR = np.mean(coef_l1_LR == 0) * 100\n",
    "print(\"Sparsity with L1 penalty: %.2f%%\" % sparsity_l1_LR)\n"
   ]
  },
  {
   "cell_type": "code",
   "execution_count": 32,
   "metadata": {},
   "outputs": [
    {
     "data": {
      "image/png": "[encoded data removed]",
      "text/plain": [
       "<matplotlib.figure.Figure at 0x119465250>"
      ]
     },
     "metadata": {},
     "output_type": "display_data"
    }
   ],
   "source": [
    "plt.imshow(np.abs(coef_l1_LR.reshape(1, 29)), interpolation='nearest',\n",
    "                   cmap='binary', vmax=1, vmin=0)\n",
    "plt.axis(\"off\")\n",
    "plt.show()"
   ]
  },
  {
   "cell_type": "code",
   "execution_count": 33,
   "metadata": {},
   "outputs": [
    {
     "data": {
      "text/plain": [
       "Index([u'league_all', u'comissioner', u'comanager', u'assistant_comissioner',\n",
       "       u'has_custom_logo', u'league_size_max', u'cash_league',\n",
       "       u'ranked_top_half', u'ranked_top3', u'leagues_renewed',\n",
       "       u'leagues_auto_renewed', u'leagues_was_renewed_and_teams_auto_filled',\n",
       "       u'number_of_adds', u'number_of_roster_changes',\n",
       "       u'number_of_accepted_trades', u'number_of_posted_messages',\n",
       "       u'private_self_plays', u'private_live_plays', u'private_auto_plays',\n",
       "       u'public_auto_plays', u'public_live_plays', u'cash_entry_fee_max',\n",
       "       u'number_of_comissoners_avg', u'new', u'return_comissioner',\n",
       "       u'return_player', u'other_league_inactive', u'other_league_comissioner',\n",
       "       u'other_league_player'],\n",
       "      dtype='object')"
      ]
     },
     "execution_count": 33,
     "metadata": {},
     "output_type": "execute_result"
    }
   ],
   "source": [
    "train_x.columns[np.abs(coef_l1_LR) > 0]"
   ]
  },
  {
   "cell_type": "markdown",
   "metadata": {},
   "source": [
    "Features: new-, leagues_renewed, other_league_inactive-, private_live_plays, has_custom_logo"
   ]
  },
  {
   "cell_type": "markdown",
   "metadata": {},
   "source": [
    "## Prediction"
   ]
  },
  {
   "cell_type": "code",
   "execution_count": 76,
   "metadata": {
    "collapsed": true
   },
   "outputs": [],
   "source": [
    "pre_data = pd.read_csv(\"prediction_data.csv\",sep=\",\")"
   ]
  },
  {
   "cell_type": "code",
   "execution_count": 77,
   "metadata": {},
   "outputs": [
    {
     "data": {
      "text/html": [
       "<div>\n",
       "<style>\n",
       "    .dataframe thead tr:only-child th {\n",
       "        text-align: right;\n",
       "    }\n",
       "\n",
       "    .dataframe thead th {\n",
       "        text-align: left;\n",
       "    }\n",
       "\n",
       "    .dataframe tbody tr th {\n",
       "        vertical-align: top;\n",
       "    }\n",
       "</style>\n",
       "<table border=\"1\" class=\"dataframe\">\n",
       "  <thead>\n",
       "    <tr style=\"text-align: right;\">\n",
       "      <th></th>\n",
       "      <th>nba2016_player2.guid</th>\n",
       "      <th>nba2016_player2.league_all</th>\n",
       "      <th>nba2016_player2.comissioner</th>\n",
       "      <th>nba2016_player2.comanager</th>\n",
       "      <th>nba2016_player2.assistant_comissioner</th>\n",
       "      <th>nba2016_player2.has_custom_logo</th>\n",
       "      <th>nba2016_player2.league_size_max</th>\n",
       "      <th>nba2016_player2.winning_pct_max</th>\n",
       "      <th>nba2016_player2.cash_league</th>\n",
       "      <th>nba2016_player2.ranked_top_half</th>\n",
       "      <th>...</th>\n",
       "      <th>nba2016_player2.public_auto_plays</th>\n",
       "      <th>nba2016_player2.public_live_plays</th>\n",
       "      <th>nba2016_player2.cash_entry_fee_max</th>\n",
       "      <th>nba2016_player2.number_of_comissoners_avg</th>\n",
       "      <th>nba2016_player2.new</th>\n",
       "      <th>nba2016_player2.return_comissioner</th>\n",
       "      <th>nba2016_player2.return_player</th>\n",
       "      <th>nba2016_player2.other_league_inactive</th>\n",
       "      <th>nba2016_player2.other_league_comissioner</th>\n",
       "      <th>nba2016_player2.other_league_player</th>\n",
       "    </tr>\n",
       "  </thead>\n",
       "  <tbody>\n",
       "    <tr>\n",
       "      <th>0</th>\n",
       "      <td>22264CZFQ2KSRR6FV37JA42HHQ</td>\n",
       "      <td>1</td>\n",
       "      <td>0</td>\n",
       "      <td>0</td>\n",
       "      <td>0</td>\n",
       "      <td>1</td>\n",
       "      <td>10</td>\n",
       "      <td>NaN</td>\n",
       "      <td>0</td>\n",
       "      <td>1</td>\n",
       "      <td>...</td>\n",
       "      <td>0</td>\n",
       "      <td>0</td>\n",
       "      <td>0</td>\n",
       "      <td>1.0</td>\n",
       "      <td>0</td>\n",
       "      <td>1</td>\n",
       "      <td>0</td>\n",
       "      <td>0</td>\n",
       "      <td>1</td>\n",
       "      <td>0</td>\n",
       "    </tr>\n",
       "    <tr>\n",
       "      <th>1</th>\n",
       "      <td>222BRXZHDEJKYUPATVLVOAQG6Y</td>\n",
       "      <td>2</td>\n",
       "      <td>0</td>\n",
       "      <td>0</td>\n",
       "      <td>0</td>\n",
       "      <td>0</td>\n",
       "      <td>14</td>\n",
       "      <td>NaN</td>\n",
       "      <td>0</td>\n",
       "      <td>1</td>\n",
       "      <td>...</td>\n",
       "      <td>0</td>\n",
       "      <td>0</td>\n",
       "      <td>0</td>\n",
       "      <td>1.0</td>\n",
       "      <td>0</td>\n",
       "      <td>1</td>\n",
       "      <td>0</td>\n",
       "      <td>1</td>\n",
       "      <td>0</td>\n",
       "      <td>0</td>\n",
       "    </tr>\n",
       "    <tr>\n",
       "      <th>2</th>\n",
       "      <td>222HAPRSN6R4NGWHPFWA2XQGEQ</td>\n",
       "      <td>2</td>\n",
       "      <td>0</td>\n",
       "      <td>0</td>\n",
       "      <td>0</td>\n",
       "      <td>0</td>\n",
       "      <td>16</td>\n",
       "      <td>0.0</td>\n",
       "      <td>0</td>\n",
       "      <td>1</td>\n",
       "      <td>...</td>\n",
       "      <td>0</td>\n",
       "      <td>0</td>\n",
       "      <td>0</td>\n",
       "      <td>1.5</td>\n",
       "      <td>0</td>\n",
       "      <td>0</td>\n",
       "      <td>1</td>\n",
       "      <td>1</td>\n",
       "      <td>0</td>\n",
       "      <td>0</td>\n",
       "    </tr>\n",
       "    <tr>\n",
       "      <th>3</th>\n",
       "      <td>222HBKDYKDMIOINWNAAM6WLVNY</td>\n",
       "      <td>1</td>\n",
       "      <td>0</td>\n",
       "      <td>0</td>\n",
       "      <td>0</td>\n",
       "      <td>0</td>\n",
       "      <td>12</td>\n",
       "      <td>NaN</td>\n",
       "      <td>0</td>\n",
       "      <td>0</td>\n",
       "      <td>...</td>\n",
       "      <td>0</td>\n",
       "      <td>0</td>\n",
       "      <td>0</td>\n",
       "      <td>1.0</td>\n",
       "      <td>0</td>\n",
       "      <td>0</td>\n",
       "      <td>1</td>\n",
       "      <td>1</td>\n",
       "      <td>0</td>\n",
       "      <td>0</td>\n",
       "    </tr>\n",
       "    <tr>\n",
       "      <th>4</th>\n",
       "      <td>222I7TRQQSSJFYZRZ7WXOPDBBU</td>\n",
       "      <td>1</td>\n",
       "      <td>0</td>\n",
       "      <td>0</td>\n",
       "      <td>0</td>\n",
       "      <td>0</td>\n",
       "      <td>12</td>\n",
       "      <td>NaN</td>\n",
       "      <td>0</td>\n",
       "      <td>0</td>\n",
       "      <td>...</td>\n",
       "      <td>0</td>\n",
       "      <td>0</td>\n",
       "      <td>0</td>\n",
       "      <td>1.0</td>\n",
       "      <td>1</td>\n",
       "      <td>0</td>\n",
       "      <td>0</td>\n",
       "      <td>1</td>\n",
       "      <td>0</td>\n",
       "      <td>0</td>\n",
       "    </tr>\n",
       "  </tbody>\n",
       "</table>\n",
       "<p>5 rows × 31 columns</p>\n",
       "</div>"
      ],
      "text/plain": [
       "         nba2016_player2.guid  nba2016_player2.league_all  \\\n",
       "0  22264CZFQ2KSRR6FV37JA42HHQ                           1   \n",
       "1  222BRXZHDEJKYUPATVLVOAQG6Y                           2   \n",
       "2  222HAPRSN6R4NGWHPFWA2XQGEQ                           2   \n",
       "3  222HBKDYKDMIOINWNAAM6WLVNY                           1   \n",
       "4  222I7TRQQSSJFYZRZ7WXOPDBBU                           1   \n",
       "\n",
       "   nba2016_player2.comissioner  nba2016_player2.comanager  \\\n",
       "0                            0                          0   \n",
       "1                            0                          0   \n",
       "2                            0                          0   \n",
       "3                            0                          0   \n",
       "4                            0                          0   \n",
       "\n",
       "   nba2016_player2.assistant_comissioner  nba2016_player2.has_custom_logo  \\\n",
       "0                                      0                                1   \n",
       "1                                      0                                0   \n",
       "2                                      0                                0   \n",
       "3                                      0                                0   \n",
       "4                                      0                                0   \n",
       "\n",
       "   nba2016_player2.league_size_max  nba2016_player2.winning_pct_max  \\\n",
       "0                               10                              NaN   \n",
       "1                               14                              NaN   \n",
       "2                               16                              0.0   \n",
       "3                               12                              NaN   \n",
       "4                               12                              NaN   \n",
       "\n",
       "   nba2016_player2.cash_league  nba2016_player2.ranked_top_half  \\\n",
       "0                            0                                1   \n",
       "1                            0                                1   \n",
       "2                            0                                1   \n",
       "3                            0                                0   \n",
       "4                            0                                0   \n",
       "\n",
       "                  ...                   nba2016_player2.public_auto_plays  \\\n",
       "0                 ...                                                   0   \n",
       "1                 ...                                                   0   \n",
       "2                 ...                                                   0   \n",
       "3                 ...                                                   0   \n",
       "4                 ...                                                   0   \n",
       "\n",
       "   nba2016_player2.public_live_plays  nba2016_player2.cash_entry_fee_max  \\\n",
       "0                                  0                                   0   \n",
       "1                                  0                                   0   \n",
       "2                                  0                                   0   \n",
       "3                                  0                                   0   \n",
       "4                                  0                                   0   \n",
       "\n",
       "   nba2016_player2.number_of_comissoners_avg  nba2016_player2.new  \\\n",
       "0                                        1.0                    0   \n",
       "1                                        1.0                    0   \n",
       "2                                        1.5                    0   \n",
       "3                                        1.0                    0   \n",
       "4                                        1.0                    1   \n",
       "\n",
       "   nba2016_player2.return_comissioner  nba2016_player2.return_player  \\\n",
       "0                                   1                              0   \n",
       "1                                   1                              0   \n",
       "2                                   0                              1   \n",
       "3                                   0                              1   \n",
       "4                                   0                              0   \n",
       "\n",
       "   nba2016_player2.other_league_inactive  \\\n",
       "0                                      0   \n",
       "1                                      1   \n",
       "2                                      1   \n",
       "3                                      1   \n",
       "4                                      1   \n",
       "\n",
       "   nba2016_player2.other_league_comissioner  \\\n",
       "0                                         1   \n",
       "1                                         0   \n",
       "2                                         0   \n",
       "3                                         0   \n",
       "4                                         0   \n",
       "\n",
       "   nba2016_player2.other_league_player  \n",
       "0                                    0  \n",
       "1                                    0  \n",
       "2                                    0  \n",
       "3                                    0  \n",
       "4                                    0  \n",
       "\n",
       "[5 rows x 31 columns]"
      ]
     },
     "execution_count": 77,
     "metadata": {},
     "output_type": "execute_result"
    }
   ],
   "source": [
    "pre_data.head()"
   ]
  },
  {
   "cell_type": "code",
   "execution_count": 78,
   "metadata": {},
   "outputs": [
    {
     "name": "stderr",
     "output_type": "stream",
     "text": [
      "/Users/yizhouz/anaconda/lib/python2.7/site-packages/ipykernel_launcher.py:1: DeprecationWarning: \n",
      ".ix is deprecated. Please use\n",
      ".loc for label based indexing or\n",
      ".iloc for positional indexing\n",
      "\n",
      "See the documentation here:\n",
      "http://pandas.pydata.org/pandas-docs/stable/indexing.html#deprecate_ix\n",
      "  \"\"\"Entry point for launching an IPython kernel.\n"
     ]
    }
   ],
   "source": [
    "preX = pre_data.ix[:,1:len(pre_data.columns)]"
   ]
  },
  {
   "cell_type": "code",
   "execution_count": 79,
   "metadata": {},
   "outputs": [
    {
     "data": {
      "text/html": [
       "<div>\n",
       "<style>\n",
       "    .dataframe thead tr:only-child th {\n",
       "        text-align: right;\n",
       "    }\n",
       "\n",
       "    .dataframe thead th {\n",
       "        text-align: left;\n",
       "    }\n",
       "\n",
       "    .dataframe tbody tr th {\n",
       "        vertical-align: top;\n",
       "    }\n",
       "</style>\n",
       "<table border=\"1\" class=\"dataframe\">\n",
       "  <thead>\n",
       "    <tr style=\"text-align: right;\">\n",
       "      <th></th>\n",
       "      <th>league_all</th>\n",
       "      <th>comissioner</th>\n",
       "      <th>comanager</th>\n",
       "      <th>assistant_comissioner</th>\n",
       "      <th>has_custom_logo</th>\n",
       "      <th>league_size_max</th>\n",
       "      <th>cash_league</th>\n",
       "      <th>ranked_top_half</th>\n",
       "      <th>ranked_top3</th>\n",
       "      <th>leagues_renewed</th>\n",
       "      <th>...</th>\n",
       "      <th>public_auto_plays</th>\n",
       "      <th>public_live_plays</th>\n",
       "      <th>cash_entry_fee_max</th>\n",
       "      <th>number_of_comissoners_avg</th>\n",
       "      <th>new</th>\n",
       "      <th>return_comissioner</th>\n",
       "      <th>return_player</th>\n",
       "      <th>other_league_inactive</th>\n",
       "      <th>other_league_comissioner</th>\n",
       "      <th>other_league_player</th>\n",
       "    </tr>\n",
       "  </thead>\n",
       "  <tbody>\n",
       "    <tr>\n",
       "      <th>0</th>\n",
       "      <td>1</td>\n",
       "      <td>0</td>\n",
       "      <td>0</td>\n",
       "      <td>0</td>\n",
       "      <td>1</td>\n",
       "      <td>10</td>\n",
       "      <td>0</td>\n",
       "      <td>1</td>\n",
       "      <td>1</td>\n",
       "      <td>1</td>\n",
       "      <td>...</td>\n",
       "      <td>0</td>\n",
       "      <td>0</td>\n",
       "      <td>0</td>\n",
       "      <td>1.0</td>\n",
       "      <td>0</td>\n",
       "      <td>1</td>\n",
       "      <td>0</td>\n",
       "      <td>0</td>\n",
       "      <td>1</td>\n",
       "      <td>0</td>\n",
       "    </tr>\n",
       "    <tr>\n",
       "      <th>1</th>\n",
       "      <td>2</td>\n",
       "      <td>0</td>\n",
       "      <td>0</td>\n",
       "      <td>0</td>\n",
       "      <td>0</td>\n",
       "      <td>14</td>\n",
       "      <td>0</td>\n",
       "      <td>1</td>\n",
       "      <td>1</td>\n",
       "      <td>1</td>\n",
       "      <td>...</td>\n",
       "      <td>0</td>\n",
       "      <td>0</td>\n",
       "      <td>0</td>\n",
       "      <td>1.0</td>\n",
       "      <td>0</td>\n",
       "      <td>1</td>\n",
       "      <td>0</td>\n",
       "      <td>1</td>\n",
       "      <td>0</td>\n",
       "      <td>0</td>\n",
       "    </tr>\n",
       "    <tr>\n",
       "      <th>2</th>\n",
       "      <td>2</td>\n",
       "      <td>0</td>\n",
       "      <td>0</td>\n",
       "      <td>0</td>\n",
       "      <td>0</td>\n",
       "      <td>16</td>\n",
       "      <td>0</td>\n",
       "      <td>1</td>\n",
       "      <td>1</td>\n",
       "      <td>2</td>\n",
       "      <td>...</td>\n",
       "      <td>0</td>\n",
       "      <td>0</td>\n",
       "      <td>0</td>\n",
       "      <td>1.5</td>\n",
       "      <td>0</td>\n",
       "      <td>0</td>\n",
       "      <td>1</td>\n",
       "      <td>1</td>\n",
       "      <td>0</td>\n",
       "      <td>0</td>\n",
       "    </tr>\n",
       "    <tr>\n",
       "      <th>3</th>\n",
       "      <td>1</td>\n",
       "      <td>0</td>\n",
       "      <td>0</td>\n",
       "      <td>0</td>\n",
       "      <td>0</td>\n",
       "      <td>12</td>\n",
       "      <td>0</td>\n",
       "      <td>0</td>\n",
       "      <td>0</td>\n",
       "      <td>1</td>\n",
       "      <td>...</td>\n",
       "      <td>0</td>\n",
       "      <td>0</td>\n",
       "      <td>0</td>\n",
       "      <td>1.0</td>\n",
       "      <td>0</td>\n",
       "      <td>0</td>\n",
       "      <td>1</td>\n",
       "      <td>1</td>\n",
       "      <td>0</td>\n",
       "      <td>0</td>\n",
       "    </tr>\n",
       "    <tr>\n",
       "      <th>4</th>\n",
       "      <td>1</td>\n",
       "      <td>0</td>\n",
       "      <td>0</td>\n",
       "      <td>0</td>\n",
       "      <td>0</td>\n",
       "      <td>12</td>\n",
       "      <td>0</td>\n",
       "      <td>0</td>\n",
       "      <td>0</td>\n",
       "      <td>0</td>\n",
       "      <td>...</td>\n",
       "      <td>0</td>\n",
       "      <td>0</td>\n",
       "      <td>0</td>\n",
       "      <td>1.0</td>\n",
       "      <td>1</td>\n",
       "      <td>0</td>\n",
       "      <td>0</td>\n",
       "      <td>1</td>\n",
       "      <td>0</td>\n",
       "      <td>0</td>\n",
       "    </tr>\n",
       "  </tbody>\n",
       "</table>\n",
       "<p>5 rows × 29 columns</p>\n",
       "</div>"
      ],
      "text/plain": [
       "   league_all  comissioner  comanager  assistant_comissioner  has_custom_logo  \\\n",
       "0           1            0          0                      0                1   \n",
       "1           2            0          0                      0                0   \n",
       "2           2            0          0                      0                0   \n",
       "3           1            0          0                      0                0   \n",
       "4           1            0          0                      0                0   \n",
       "\n",
       "   league_size_max  cash_league  ranked_top_half  ranked_top3  \\\n",
       "0               10            0                1            1   \n",
       "1               14            0                1            1   \n",
       "2               16            0                1            1   \n",
       "3               12            0                0            0   \n",
       "4               12            0                0            0   \n",
       "\n",
       "   leagues_renewed         ...           public_auto_plays  public_live_plays  \\\n",
       "0                1         ...                           0                  0   \n",
       "1                1         ...                           0                  0   \n",
       "2                2         ...                           0                  0   \n",
       "3                1         ...                           0                  0   \n",
       "4                0         ...                           0                  0   \n",
       "\n",
       "   cash_entry_fee_max  number_of_comissoners_avg  new  return_comissioner  \\\n",
       "0                   0                        1.0    0                   1   \n",
       "1                   0                        1.0    0                   1   \n",
       "2                   0                        1.5    0                   0   \n",
       "3                   0                        1.0    0                   0   \n",
       "4                   0                        1.0    1                   0   \n",
       "\n",
       "   return_player  other_league_inactive  other_league_comissioner  \\\n",
       "0              0                      0                         1   \n",
       "1              0                      1                         0   \n",
       "2              1                      1                         0   \n",
       "3              1                      1                         0   \n",
       "4              0                      1                         0   \n",
       "\n",
       "   other_league_player  \n",
       "0                    0  \n",
       "1                    0  \n",
       "2                    0  \n",
       "3                    0  \n",
       "4                    0  \n",
       "\n",
       "[5 rows x 29 columns]"
      ]
     },
     "execution_count": 79,
     "metadata": {},
     "output_type": "execute_result"
    }
   ],
   "source": [
    "#Rename the column\n",
    "newColumns = []\n",
    "for column in preX.columns:\n",
    "    newColumns.append(column.split(\".\")[-1])\n",
    "\n",
    "preX.columns = newColumns\n",
    "# Drop NaN columns\n",
    "try:\n",
    "    del preX['winning_pct_max']\n",
    "except:\n",
    "    print(\"Already deleted\")\n",
    "\n",
    "preX.head()"
   ]
  },
  {
   "cell_type": "code",
   "execution_count": 80,
   "metadata": {
    "collapsed": true
   },
   "outputs": [],
   "source": [
    "preX = preprocessing.scale(preX)"
   ]
  },
  {
   "cell_type": "code",
   "execution_count": 81,
   "metadata": {},
   "outputs": [
    {
     "ename": "NameError",
     "evalue": "name 'forest' is not defined",
     "output_type": "error",
     "traceback": [
      "\u001b[0;31m---------------------------------------------------------------------------\u001b[0m",
      "\u001b[0;31mNameError\u001b[0m                                 Traceback (most recent call last)",
      "\u001b[0;32m<ipython-input-81-8aba9faa3af5>\u001b[0m in \u001b[0;36m<module>\u001b[0;34m()\u001b[0m\n\u001b[0;32m----> 1\u001b[0;31m \u001b[0;32mprint\u001b[0m\u001b[0;34m(\u001b[0m\u001b[0mnp\u001b[0m\u001b[0;34m.\u001b[0m\u001b[0mmean\u001b[0m\u001b[0;34m(\u001b[0m\u001b[0mforest\u001b[0m\u001b[0;34m.\u001b[0m\u001b[0mpredict\u001b[0m\u001b[0;34m(\u001b[0m\u001b[0mpreX\u001b[0m\u001b[0;34m)\u001b[0m\u001b[0;34m)\u001b[0m\u001b[0;34m)\u001b[0m\u001b[0;34m\u001b[0m\u001b[0m\n\u001b[0m\u001b[1;32m      2\u001b[0m \u001b[0;31m#np.mean(clf_l1_LR.predict(preX))\u001b[0m\u001b[0;34m\u001b[0m\u001b[0;34m\u001b[0m\u001b[0m\n",
      "\u001b[0;31mNameError\u001b[0m: name 'forest' is not defined"
     ]
    }
   ],
   "source": [
    "print(np.mean(forest.predict(preX)))\n",
    "#np.mean(clf_l1_LR.predict(preX))"
   ]
  },
  {
   "cell_type": "code",
   "execution_count": 154,
   "metadata": {},
   "outputs": [
    {
     "data": {
      "text/plain": [
       "322579"
      ]
     },
     "execution_count": 154,
     "metadata": {},
     "output_type": "execute_result"
    }
   ],
   "source": [
    "len(preX)"
   ]
  },
  {
   "cell_type": "code",
   "execution_count": 48,
   "metadata": {},
   "outputs": [
    {
     "data": {
      "text/plain": [
       "Index([u'league_all', u'comissioner', u'comanager', u'assistant_comissioner',\n",
       "       u'has_custom_logo', u'league_size_max', u'cash_league',\n",
       "       u'ranked_top_half', u'ranked_top3', u'leagues_renewed',\n",
       "       u'leagues_auto_renewed', u'leagues_was_renewed_and_teams_auto_filled',\n",
       "       u'number_of_adds', u'number_of_roster_changes',\n",
       "       u'number_of_accepted_trades', u'number_of_posted_messages',\n",
       "       u'private_self_plays', u'private_live_plays', u'private_auto_plays',\n",
       "       u'public_auto_plays', u'public_live_plays', u'cash_entry_fee_max',\n",
       "       u'number_of_comissoners_avg', u'new', u'return_comissioner',\n",
       "       u'return_player', u'other_league_inactive', u'other_league_comissioner',\n",
       "       u'other_league_player'],\n",
       "      dtype='object')"
      ]
     },
     "execution_count": 48,
     "metadata": {},
     "output_type": "execute_result"
    }
   ],
   "source": [
    "train_x.columns"
   ]
  },
  {
   "cell_type": "code",
   "execution_count": 46,
   "metadata": {},
   "outputs": [
    {
     "data": {
      "text/plain": [
       "(249999, 62500)"
      ]
     },
     "execution_count": 46,
     "metadata": {},
     "output_type": "execute_result"
    }
   ],
   "source": [
    "len(train_x),len(test_x)"
   ]
  },
  {
   "cell_type": "code",
   "execution_count": 47,
   "metadata": {},
   "outputs": [
    {
     "data": {
      "text/plain": [
       "array([ 0.        ,  0.        , -0.0455871 ,  0.        ,  0.06902927,\n",
       "        0.24083773,  0.        ,  0.0646423 ,  0.03580576,  0.67589271,\n",
       "        0.040894  ,  0.        ,  0.41505706,  0.47875482,  0.        ,\n",
       "        0.        ,  0.        ,  0.15558782,  0.        ,  0.03362738,\n",
       "        0.        ,  0.        ,  0.12545871, -0.53444873,  0.        ,\n",
       "        0.        , -0.15256109,  0.        ,  0.        ])"
      ]
     },
     "execution_count": 47,
     "metadata": {},
     "output_type": "execute_result"
    }
   ],
   "source": [
    "coef_l1_LR"
   ]
  },
  {
   "cell_type": "code",
   "execution_count": 63,
   "metadata": {},
   "outputs": [
    {
     "data": {
      "text/plain": [
       "'number_of_posted_messages'"
      ]
     },
     "execution_count": 63,
     "metadata": {},
     "output_type": "execute_result"
    }
   ],
   "source": [
    "train_x.columns[15]"
   ]
  },
  {
   "cell_type": "code",
   "execution_count": 26,
   "metadata": {},
   "outputs": [
    {
     "data": {
      "text/plain": [
       "((249999, 29), (249999,))"
      ]
     },
     "execution_count": 26,
     "metadata": {},
     "output_type": "execute_result"
    }
   ],
   "source": [
    "train_x.shape,train_y.shape"
   ]
  },
  {
   "cell_type": "code",
   "execution_count": 13,
   "metadata": {},
   "outputs": [
    {
     "data": {
      "text/plain": [
       "23"
      ]
     },
     "execution_count": 13,
     "metadata": {},
     "output_type": "execute_result"
    }
   ],
   "source": [
    "list(train_x.columns).index(\"new\")"
   ]
  },
  {
   "cell_type": "code",
   "execution_count": 67,
   "metadata": {},
   "outputs": [
    {
     "data": {
      "text/plain": [
       "62513L"
      ]
     },
     "execution_count": 67,
     "metadata": {},
     "output_type": "execute_result"
    }
   ],
   "source": [
    "np.sum(train_y[train_x['ranked_top_half']  == 1])"
   ]
  },
  {
   "cell_type": "code",
   "execution_count": 36,
   "metadata": {},
   "outputs": [
    {
     "data": {
      "text/plain": [
       "115882"
      ]
     },
     "execution_count": 36,
     "metadata": {},
     "output_type": "execute_result"
    }
   ],
   "source": [
    "np.sum(train_y == 1)"
   ]
  },
  {
   "cell_type": "code",
   "execution_count": 66,
   "metadata": {},
   "outputs": [
    {
     "data": {
      "text/plain": [
       "108328"
      ]
     },
     "execution_count": 66,
     "metadata": {},
     "output_type": "execute_result"
    }
   ],
   "source": [
    "np.sum(train_x['ranked_top_half'] == 1)"
   ]
  },
  {
   "cell_type": "code",
   "execution_count": 24,
   "metadata": {
    "scrolled": true
   },
   "outputs": [
    {
     "data": {
      "text/plain": [
       "[('league_all', 0.76583699236731895),\n",
       " ('leagues_renewed', 0.69974645891113063),\n",
       " ('number_of_roster_changes', 0.53279471320104688),\n",
       " ('return_player', 0.42161294969848012),\n",
       " ('number_of_adds', 0.36884775314106111),\n",
       " ('league_size_max', 0.25737270149603975),\n",
       " ('return_comissioner', 0.23374122907910297),\n",
       " ('public_live_plays', -0.1707661659483426),\n",
       " ('number_of_comissoners_avg', 0.16702683762077949),\n",
       " ('number_of_accepted_trades', 0.15377703407903884),\n",
       " ('other_league_player', 0.12395498659650556),\n",
       " ('new', -0.11302369984255135),\n",
       " ('private_live_plays', 0.10991061558428208),\n",
       " ('has_custom_logo', 0.080733166007930596),\n",
       " ('other_league_comissioner', 0.080178726943659656),\n",
       " ('leagues_auto_renewed', 0.078094225318410981),\n",
       " ('comanager', -0.073540389518437582),\n",
       " ('ranked_top3', 0.06349292079983225),\n",
       " ('private_auto_plays', -0.055064861048483162),\n",
       " ('other_league_inactive', -0.054463631209412562),\n",
       " ('public_auto_plays', 0.052775752831876861),\n",
       " ('ranked_top_half', 0.03138295584579557),\n",
       " ('comissioner', 0.020259615061635337),\n",
       " ('number_of_posted_messages', 0.018042493594856608),\n",
       " ('private_self_plays', -0.011824045674140946),\n",
       " ('leagues_was_renewed_and_teams_auto_filled', -0.011674865207256732),\n",
       " ('cash_league', 0.0084568650930218411),\n",
       " ('assistant_comissioner', 0.0039564053566084828),\n",
       " ('cash_entry_fee_max', 0.0016057323149313929)]"
      ]
     },
     "execution_count": 24,
     "metadata": {},
     "output_type": "execute_result"
    }
   ],
   "source": [
    "[(x,y) for (y,x) in sorted(zip(coef_l1_LR,train_x.columns), key=lambda pair: np.abs(pair[0]), reverse=True)] "
   ]
  },
  {
   "cell_type": "code",
   "execution_count": 150,
   "metadata": {},
   "outputs": [
    {
     "data": {
      "text/plain": [
       "array([ 0.49488201,  0.00903234, -0.06997547,  0.00357765,  0.08536125,\n",
       "        0.24545995,  0.        ,  0.06909138,  0.03620841,  0.70183742,\n",
       "        0.06730747, -0.00335416,  0.41235859,  0.49826093,  0.20464455,\n",
       "        0.01115004,  0.0073364 ,  0.1603295 , -0.02718585,  0.05670157,\n",
       "        0.        ,  0.0080064 ,  0.15938051, -0.01209895,  0.2931242 ,\n",
       "        0.51681253, -0.10951925,  0.05275339,  0.07208555])"
      ]
     },
     "execution_count": 150,
     "metadata": {},
     "output_type": "execute_result"
    }
   ],
   "source": []
  },
  {
   "cell_type": "markdown",
   "metadata": {
    "collapsed": true
   },
   "source": [
    "## SVM"
   ]
  },
  {
   "cell_type": "code",
   "execution_count": 9,
   "metadata": {
    "collapsed": true
   },
   "outputs": [],
   "source": [
    "from sklearn import svm"
   ]
  },
  {
   "cell_type": "code",
   "execution_count": 13,
   "metadata": {},
   "outputs": [
    {
     "data": {
      "text/plain": [
       "SVC(C=1.0, cache_size=200, class_weight=None, coef0=0.0,\n",
       "  decision_function_shape=None, degree=3, gamma='auto', kernel='rbf',\n",
       "  max_iter=-1, probability=False, random_state=None, shrinking=True, tol=1,\n",
       "  verbose=False)"
      ]
     },
     "execution_count": 13,
     "metadata": {},
     "output_type": "execute_result"
    }
   ],
   "source": [
    "clfsvc = svm.SVC(tol = 1)\n",
    "clfsvc.fit(train_x[:10000],train_y[:10000])"
   ]
  },
  {
   "cell_type": "code",
   "execution_count": 15,
   "metadata": {},
   "outputs": [
    {
     "data": {
      "text/plain": [
       "0.77820711282845134"
      ]
     },
     "execution_count": 15,
     "metadata": {},
     "output_type": "execute_result"
    }
   ],
   "source": [
    "clfsvc.score(train_x,train_y)"
   ]
  },
  {
   "cell_type": "markdown",
   "metadata": {},
   "source": [
    "## QDA"
   ]
  },
  {
   "cell_type": "code",
   "execution_count": 16,
   "metadata": {
    "collapsed": true
   },
   "outputs": [],
   "source": [
    " from sklearn.discriminant_analysis import QuadraticDiscriminantAnalysis"
   ]
  },
  {
   "cell_type": "code",
   "execution_count": 18,
   "metadata": {},
   "outputs": [
    {
     "name": "stderr",
     "output_type": "stream",
     "text": [
      "/Users/yizhouz/anaconda/lib/python2.7/site-packages/sklearn/discriminant_analysis.py:695: UserWarning: Variables are collinear\n",
      "  warnings.warn(\"Variables are collinear\")\n"
     ]
    },
    {
     "data": {
      "text/plain": [
       "QuadraticDiscriminantAnalysis(priors=None, reg_param=0.0,\n",
       "               store_covariances=False, tol=0.0001)"
      ]
     },
     "execution_count": 18,
     "metadata": {},
     "output_type": "execute_result"
    }
   ],
   "source": [
    "qda = QuadraticDiscriminantAnalysis()\n",
    "qda.fit(train_x,train_y)"
   ]
  },
  {
   "cell_type": "code",
   "execution_count": 19,
   "metadata": {},
   "outputs": [
    {
     "data": {
      "text/plain": [
       "0.62829051316205264"
      ]
     },
     "execution_count": 19,
     "metadata": {},
     "output_type": "execute_result"
    }
   ],
   "source": [
    "qda.score(train_x,train_y)"
   ]
  },
  {
   "cell_type": "markdown",
   "metadata": {},
   "source": [
    "## NN"
   ]
  },
  {
   "cell_type": "code",
   "execution_count": 60,
   "metadata": {
    "collapsed": true
   },
   "outputs": [],
   "source": [
    "\n",
    "from keras.models import Sequential\n",
    "from keras.layers import Dense, Activation,Dropout"
   ]
  },
  {
   "cell_type": "code",
   "execution_count": 55,
   "metadata": {
    "collapsed": true
   },
   "outputs": [],
   "source": [
    "Y = []\n",
    "train_y = np.array(train_y)\n",
    "train_x = np.array(train_x)\n",
    "for i in range(len(train_y)):\n",
    "    if train_y[i] == 0:\n",
    "        Y.append([0,1])\n",
    "    else:\n",
    "        Y.append([1,0])\n",
    "\n",
    "Y = np.array(Y)"
   ]
  },
  {
   "cell_type": "code",
   "execution_count": 56,
   "metadata": {
    "collapsed": true
   },
   "outputs": [],
   "source": [
    "dims = train_x.shape[1]\n",
    "nb_classes = 2"
   ]
  },
  {
   "cell_type": "code",
   "execution_count": 58,
   "metadata": {},
   "outputs": [
    {
     "name": "stdout",
     "output_type": "stream",
     "text": [
      "Epoch 1/10\n",
      "249999/249999 [==============================] - 7s - loss: 0.4899 - acc: 0.7762     \n",
      "Epoch 2/10\n",
      "249999/249999 [==============================] - 7s - loss: 0.4834 - acc: 0.7778     \n",
      "Epoch 3/10\n",
      "249999/249999 [==============================] - 7s - loss: 0.4833 - acc: 0.7783     \n",
      "Epoch 4/10\n",
      "249999/249999 [==============================] - 7s - loss: 0.4833 - acc: 0.7782     \n",
      "Epoch 5/10\n",
      "249999/249999 [==============================] - 8s - loss: 0.4833 - acc: 0.7784     \n",
      "Epoch 6/10\n",
      "249999/249999 [==============================] - 8s - loss: 0.4833 - acc: 0.7785     \n",
      "Epoch 7/10\n",
      "249999/249999 [==============================] - 8s - loss: 0.4833 - acc: 0.7780     \n",
      "Epoch 8/10\n",
      "249999/249999 [==============================] - 8s - loss: 0.4832 - acc: 0.7783     \n",
      "Epoch 9/10\n",
      "249999/249999 [==============================] - 8s - loss: 0.4832 - acc: 0.7782     \n",
      "Epoch 10/10\n",
      "249999/249999 [==============================] - 8s - loss: 0.4833 - acc: 0.7780     \n"
     ]
    },
    {
     "data": {
      "text/plain": [
       "<keras.callbacks.History at 0x12af65550>"
      ]
     },
     "execution_count": 58,
     "metadata": {},
     "output_type": "execute_result"
    }
   ],
   "source": [
    "#logistic regression\n",
    "model = Sequential()\n",
    "model.add(Dense(2, input_shape=(dims,)))\n",
    "model.add(Activation('softmax'))\n",
    "model.compile(optimizer='sgd', loss='categorical_crossentropy',metrics=['accuracy'])\n",
    "model.fit(train_x, Y)"
   ]
  },
  {
   "cell_type": "code",
   "execution_count": 73,
   "metadata": {
    "collapsed": true
   },
   "outputs": [],
   "source": [
    "model = Sequential()\n",
    "model.add(Dense(64, input_dim=dims, activation='relu'))\n",
    "model.add(Dropout(0.2))\n",
    "model.add(Dense(128, activation='relu'))\n",
    "model.add(Dropout(0.5))\n",
    "model.add(Dense(32,activation = 'relu'))\n",
    "model.add(Dense(1, activation='sigmoid'))"
   ]
  },
  {
   "cell_type": "code",
   "execution_count": 74,
   "metadata": {},
   "outputs": [
    {
     "name": "stdout",
     "output_type": "stream",
     "text": [
      "_________________________________________________________________\n",
      "Layer (type)                 Output Shape              Param #   \n",
      "=================================================================\n",
      "dense_19 (Dense)             (None, 64)                1920      \n",
      "_________________________________________________________________\n",
      "dropout_9 (Dropout)          (None, 64)                0         \n",
      "_________________________________________________________________\n",
      "dense_20 (Dense)             (None, 128)               8320      \n",
      "_________________________________________________________________\n",
      "dropout_10 (Dropout)         (None, 128)               0         \n",
      "_________________________________________________________________\n",
      "dense_21 (Dense)             (None, 32)                4128      \n",
      "_________________________________________________________________\n",
      "dense_22 (Dense)             (None, 1)                 33        \n",
      "=================================================================\n",
      "Total params: 14,401\n",
      "Trainable params: 14,401\n",
      "Non-trainable params: 0\n",
      "_________________________________________________________________\n"
     ]
    }
   ],
   "source": [
    "model.summary()"
   ]
  },
  {
   "cell_type": "code",
   "execution_count": 75,
   "metadata": {},
   "outputs": [
    {
     "name": "stdout",
     "output_type": "stream",
     "text": [
      "Epoch 1/5\n",
      "249999/249999 [==============================] - 4s - loss: 0.4846 - acc: 0.7773     \n",
      "Epoch 2/5\n",
      "249999/249999 [==============================] - 4s - loss: 0.4753 - acc: 0.7817     \n",
      "Epoch 3/5\n",
      "249999/249999 [==============================] - 4s - loss: 0.4739 - acc: 0.7827     \n",
      "Epoch 4/5\n",
      "249999/249999 [==============================] - 4s - loss: 0.4725 - acc: 0.7836     \n",
      "Epoch 5/5\n",
      "249999/249999 [==============================] - 4s - loss: 0.4720 - acc: 0.7830     \n"
     ]
    },
    {
     "data": {
      "text/plain": [
       "<keras.callbacks.History at 0x1243a8e10>"
      ]
     },
     "execution_count": 75,
     "metadata": {},
     "output_type": "execute_result"
    }
   ],
   "source": [
    "model.compile(loss='binary_crossentropy',\n",
    "              optimizer='rmsprop',\n",
    "              metrics=['accuracy'])\n",
    "\n",
    "model.fit(train_x, train_y,\n",
    "          epochs=5,\n",
    "          batch_size=128)"
   ]
  },
  {
   "cell_type": "code",
   "execution_count": 86,
   "metadata": {},
   "outputs": [
    {
     "name": "stdout",
     "output_type": "stream",
     "text": [
      "61952/62500 [============================>.] - ETA: 0s"
     ]
    },
    {
     "data": {
      "text/plain": [
       "[0.46987436616897582, 0.78376000000000001]"
      ]
     },
     "execution_count": 86,
     "metadata": {},
     "output_type": "execute_result"
    }
   ],
   "source": [
    "model.evaluate(np.array(test_x),np.array(test_y))"
   ]
  },
  {
   "cell_type": "code",
   "execution_count": 85,
   "metadata": {},
   "outputs": [
    {
     "data": {
      "text/plain": [
       "0.45804593603427379"
      ]
     },
     "execution_count": 85,
     "metadata": {},
     "output_type": "execute_result"
    }
   ],
   "source": [
    "(np.sum(model.predict(preX)>0.5)+0.0)/len(preX)"
   ]
  },
  {
   "cell_type": "markdown",
   "metadata": {
    "collapsed": true
   },
   "source": [
    "# Plotting part"
   ]
  },
  {
   "cell_type": "code",
   "execution_count": 6,
   "metadata": {},
   "outputs": [
    {
     "data": {
      "text/html": [
       "<div>\n",
       "<style>\n",
       "    .dataframe thead tr:only-child th {\n",
       "        text-align: right;\n",
       "    }\n",
       "\n",
       "    .dataframe thead th {\n",
       "        text-align: left;\n",
       "    }\n",
       "\n",
       "    .dataframe tbody tr th {\n",
       "        vertical-align: top;\n",
       "    }\n",
       "</style>\n",
       "<table border=\"1\" class=\"dataframe\">\n",
       "  <thead>\n",
       "    <tr style=\"text-align: right;\">\n",
       "      <th></th>\n",
       "      <th>returned</th>\n",
       "      <th>guid</th>\n",
       "      <th>league_all</th>\n",
       "      <th>comissioner</th>\n",
       "      <th>comanager</th>\n",
       "      <th>assistant_comissioner</th>\n",
       "      <th>has_custom_logo</th>\n",
       "      <th>league_size_max</th>\n",
       "      <th>cash_league</th>\n",
       "      <th>ranked_top_half</th>\n",
       "      <th>...</th>\n",
       "      <th>public_auto_plays</th>\n",
       "      <th>public_live_plays</th>\n",
       "      <th>cash_entry_fee_max</th>\n",
       "      <th>number_of_comissoners_avg</th>\n",
       "      <th>new</th>\n",
       "      <th>return_comissioner</th>\n",
       "      <th>return_player</th>\n",
       "      <th>other_league_inactive</th>\n",
       "      <th>other_league_comissioner</th>\n",
       "      <th>other_league_player</th>\n",
       "    </tr>\n",
       "  </thead>\n",
       "  <tbody>\n",
       "    <tr>\n",
       "      <th>0</th>\n",
       "      <td>0</td>\n",
       "      <td>2224DLXMMZ7JSCFYISHYFPFQV4</td>\n",
       "      <td>1</td>\n",
       "      <td>0</td>\n",
       "      <td>0</td>\n",
       "      <td>0</td>\n",
       "      <td>0</td>\n",
       "      <td>12</td>\n",
       "      <td>0</td>\n",
       "      <td>0</td>\n",
       "      <td>...</td>\n",
       "      <td>0</td>\n",
       "      <td>0</td>\n",
       "      <td>0</td>\n",
       "      <td>1.0</td>\n",
       "      <td>0</td>\n",
       "      <td>0</td>\n",
       "      <td>1</td>\n",
       "      <td>0</td>\n",
       "      <td>0</td>\n",
       "      <td>1</td>\n",
       "    </tr>\n",
       "    <tr>\n",
       "      <th>1</th>\n",
       "      <td>0</td>\n",
       "      <td>2224VVHXYS3AL2RR7N5IOHQMII</td>\n",
       "      <td>1</td>\n",
       "      <td>0</td>\n",
       "      <td>0</td>\n",
       "      <td>0</td>\n",
       "      <td>0</td>\n",
       "      <td>12</td>\n",
       "      <td>0</td>\n",
       "      <td>0</td>\n",
       "      <td>...</td>\n",
       "      <td>0</td>\n",
       "      <td>0</td>\n",
       "      <td>0</td>\n",
       "      <td>1.0</td>\n",
       "      <td>0</td>\n",
       "      <td>0</td>\n",
       "      <td>1</td>\n",
       "      <td>1</td>\n",
       "      <td>0</td>\n",
       "      <td>0</td>\n",
       "    </tr>\n",
       "    <tr>\n",
       "      <th>2</th>\n",
       "      <td>1</td>\n",
       "      <td>22264CZFQ2KSRR6FV37JA42HHQ</td>\n",
       "      <td>1</td>\n",
       "      <td>0</td>\n",
       "      <td>0</td>\n",
       "      <td>0</td>\n",
       "      <td>1</td>\n",
       "      <td>10</td>\n",
       "      <td>0</td>\n",
       "      <td>1</td>\n",
       "      <td>...</td>\n",
       "      <td>0</td>\n",
       "      <td>0</td>\n",
       "      <td>0</td>\n",
       "      <td>1.0</td>\n",
       "      <td>0</td>\n",
       "      <td>1</td>\n",
       "      <td>0</td>\n",
       "      <td>0</td>\n",
       "      <td>1</td>\n",
       "      <td>0</td>\n",
       "    </tr>\n",
       "    <tr>\n",
       "      <th>3</th>\n",
       "      <td>1</td>\n",
       "      <td>222BRXZHDEJKYUPATVLVOAQG6Y</td>\n",
       "      <td>1</td>\n",
       "      <td>0</td>\n",
       "      <td>0</td>\n",
       "      <td>0</td>\n",
       "      <td>0</td>\n",
       "      <td>12</td>\n",
       "      <td>0</td>\n",
       "      <td>1</td>\n",
       "      <td>...</td>\n",
       "      <td>0</td>\n",
       "      <td>0</td>\n",
       "      <td>0</td>\n",
       "      <td>1.0</td>\n",
       "      <td>0</td>\n",
       "      <td>1</td>\n",
       "      <td>0</td>\n",
       "      <td>1</td>\n",
       "      <td>0</td>\n",
       "      <td>0</td>\n",
       "    </tr>\n",
       "    <tr>\n",
       "      <th>4</th>\n",
       "      <td>1</td>\n",
       "      <td>222HAPRSN6R4NGWHPFWA2XQGEQ</td>\n",
       "      <td>1</td>\n",
       "      <td>0</td>\n",
       "      <td>0</td>\n",
       "      <td>0</td>\n",
       "      <td>0</td>\n",
       "      <td>13</td>\n",
       "      <td>0</td>\n",
       "      <td>1</td>\n",
       "      <td>...</td>\n",
       "      <td>0</td>\n",
       "      <td>0</td>\n",
       "      <td>0</td>\n",
       "      <td>1.0</td>\n",
       "      <td>0</td>\n",
       "      <td>0</td>\n",
       "      <td>1</td>\n",
       "      <td>1</td>\n",
       "      <td>0</td>\n",
       "      <td>0</td>\n",
       "    </tr>\n",
       "  </tbody>\n",
       "</table>\n",
       "<p>5 rows × 31 columns</p>\n",
       "</div>"
      ],
      "text/plain": [
       "   returned                        guid  league_all  comissioner  comanager  \\\n",
       "0         0  2224DLXMMZ7JSCFYISHYFPFQV4           1            0          0   \n",
       "1         0  2224VVHXYS3AL2RR7N5IOHQMII           1            0          0   \n",
       "2         1  22264CZFQ2KSRR6FV37JA42HHQ           1            0          0   \n",
       "3         1  222BRXZHDEJKYUPATVLVOAQG6Y           1            0          0   \n",
       "4         1  222HAPRSN6R4NGWHPFWA2XQGEQ           1            0          0   \n",
       "\n",
       "   assistant_comissioner  has_custom_logo  league_size_max  cash_league  \\\n",
       "0                      0                0               12            0   \n",
       "1                      0                0               12            0   \n",
       "2                      0                1               10            0   \n",
       "3                      0                0               12            0   \n",
       "4                      0                0               13            0   \n",
       "\n",
       "   ranked_top_half         ...           public_auto_plays  public_live_plays  \\\n",
       "0                0         ...                           0                  0   \n",
       "1                0         ...                           0                  0   \n",
       "2                1         ...                           0                  0   \n",
       "3                1         ...                           0                  0   \n",
       "4                1         ...                           0                  0   \n",
       "\n",
       "   cash_entry_fee_max  number_of_comissoners_avg  new  return_comissioner  \\\n",
       "0                   0                        1.0    0                   0   \n",
       "1                   0                        1.0    0                   0   \n",
       "2                   0                        1.0    0                   1   \n",
       "3                   0                        1.0    0                   1   \n",
       "4                   0                        1.0    0                   0   \n",
       "\n",
       "   return_player  other_league_inactive  other_league_comissioner  \\\n",
       "0              1                      0                         0   \n",
       "1              1                      1                         0   \n",
       "2              0                      0                         1   \n",
       "3              0                      1                         0   \n",
       "4              1                      1                         0   \n",
       "\n",
       "   other_league_player  \n",
       "0                    1  \n",
       "1                    0  \n",
       "2                    0  \n",
       "3                    0  \n",
       "4                    0  \n",
       "\n",
       "[5 rows x 31 columns]"
      ]
     },
     "execution_count": 6,
     "metadata": {},
     "output_type": "execute_result"
    }
   ],
   "source": [
    "data.head()"
   ]
  },
  {
   "cell_type": "code",
   "execution_count": 7,
   "metadata": {
    "collapsed": true
   },
   "outputs": [],
   "source": [
    "agb = data.groupby(['new','leagues_renewed'])['returned']"
   ]
  },
  {
   "cell_type": "code",
   "execution_count": 8,
   "metadata": {},
   "outputs": [
    {
     "data": {
      "text/html": [
       "<div>\n",
       "<style>\n",
       "    .dataframe thead tr:only-child th {\n",
       "        text-align: right;\n",
       "    }\n",
       "\n",
       "    .dataframe thead th {\n",
       "        text-align: left;\n",
       "    }\n",
       "\n",
       "    .dataframe tbody tr th {\n",
       "        vertical-align: top;\n",
       "    }\n",
       "</style>\n",
       "<table border=\"1\" class=\"dataframe\">\n",
       "  <thead>\n",
       "    <tr style=\"text-align: right;\">\n",
       "      <th>leagues_renewed</th>\n",
       "      <th>0</th>\n",
       "      <th>1</th>\n",
       "      <th>2</th>\n",
       "      <th>3</th>\n",
       "      <th>4</th>\n",
       "      <th>5</th>\n",
       "      <th>6</th>\n",
       "      <th>7</th>\n",
       "      <th>8</th>\n",
       "      <th>288</th>\n",
       "    </tr>\n",
       "    <tr>\n",
       "      <th>new</th>\n",
       "      <th></th>\n",
       "      <th></th>\n",
       "      <th></th>\n",
       "      <th></th>\n",
       "      <th></th>\n",
       "      <th></th>\n",
       "      <th></th>\n",
       "      <th></th>\n",
       "      <th></th>\n",
       "      <th></th>\n",
       "    </tr>\n",
       "  </thead>\n",
       "  <tbody>\n",
       "    <tr>\n",
       "      <th>0</th>\n",
       "      <td>0.530965</td>\n",
       "      <td>0.766731</td>\n",
       "      <td>0.921189</td>\n",
       "      <td>0.952923</td>\n",
       "      <td>0.97549</td>\n",
       "      <td>0.975610</td>\n",
       "      <td>0.990244</td>\n",
       "      <td>0.984496</td>\n",
       "      <td>0.9875</td>\n",
       "      <td>1.0</td>\n",
       "    </tr>\n",
       "    <tr>\n",
       "      <th>1</th>\n",
       "      <td>0.197249</td>\n",
       "      <td>0.509128</td>\n",
       "      <td>0.664948</td>\n",
       "      <td>0.777778</td>\n",
       "      <td>0.76000</td>\n",
       "      <td>0.916667</td>\n",
       "      <td>0.857143</td>\n",
       "      <td>0.500000</td>\n",
       "      <td>0.0000</td>\n",
       "      <td>NaN</td>\n",
       "    </tr>\n",
       "  </tbody>\n",
       "</table>\n",
       "</div>"
      ],
      "text/plain": [
       "leagues_renewed       0         1         2         3        4         5    \\\n",
       "new                                                                          \n",
       "0                0.530965  0.766731  0.921189  0.952923  0.97549  0.975610   \n",
       "1                0.197249  0.509128  0.664948  0.777778  0.76000  0.916667   \n",
       "\n",
       "leagues_renewed       6         7       8    288  \n",
       "new                                               \n",
       "0                0.990244  0.984496  0.9875  1.0  \n",
       "1                0.857143  0.500000  0.0000  NaN  "
      ]
     },
     "execution_count": 8,
     "metadata": {},
     "output_type": "execute_result"
    }
   ],
   "source": [
    "agb.mean().unstack()"
   ]
  },
  {
   "cell_type": "code",
   "execution_count": 9,
   "metadata": {},
   "outputs": [
    {
     "data": {
      "text/html": [
       "<div>\n",
       "<style>\n",
       "    .dataframe thead tr:only-child th {\n",
       "        text-align: right;\n",
       "    }\n",
       "\n",
       "    .dataframe thead th {\n",
       "        text-align: left;\n",
       "    }\n",
       "\n",
       "    .dataframe tbody tr th {\n",
       "        vertical-align: top;\n",
       "    }\n",
       "</style>\n",
       "<table border=\"1\" class=\"dataframe\">\n",
       "  <thead>\n",
       "    <tr style=\"text-align: right;\">\n",
       "      <th>leagues_renewed</th>\n",
       "      <th>0</th>\n",
       "      <th>1</th>\n",
       "      <th>2</th>\n",
       "      <th>3</th>\n",
       "      <th>4</th>\n",
       "      <th>5</th>\n",
       "      <th>6</th>\n",
       "      <th>7</th>\n",
       "      <th>8</th>\n",
       "      <th>288</th>\n",
       "    </tr>\n",
       "    <tr>\n",
       "      <th>new</th>\n",
       "      <th></th>\n",
       "      <th></th>\n",
       "      <th></th>\n",
       "      <th></th>\n",
       "      <th></th>\n",
       "      <th></th>\n",
       "      <th></th>\n",
       "      <th></th>\n",
       "      <th></th>\n",
       "      <th></th>\n",
       "    </tr>\n",
       "  </thead>\n",
       "  <tbody>\n",
       "    <tr>\n",
       "      <th>0</th>\n",
       "      <td>56160.0</td>\n",
       "      <td>82364.0</td>\n",
       "      <td>11407.0</td>\n",
       "      <td>2549.0</td>\n",
       "      <td>816.0</td>\n",
       "      <td>410.0</td>\n",
       "      <td>205.0</td>\n",
       "      <td>129.0</td>\n",
       "      <td>80.0</td>\n",
       "      <td>1.0</td>\n",
       "    </tr>\n",
       "    <tr>\n",
       "      <th>1</th>\n",
       "      <td>139489.0</td>\n",
       "      <td>18186.0</td>\n",
       "      <td>582.0</td>\n",
       "      <td>72.0</td>\n",
       "      <td>25.0</td>\n",
       "      <td>12.0</td>\n",
       "      <td>7.0</td>\n",
       "      <td>2.0</td>\n",
       "      <td>3.0</td>\n",
       "      <td>NaN</td>\n",
       "    </tr>\n",
       "  </tbody>\n",
       "</table>\n",
       "</div>"
      ],
      "text/plain": [
       "leagues_renewed       0        1        2       3      4      5      6    \\\n",
       "new                                                                        \n",
       "0                 56160.0  82364.0  11407.0  2549.0  816.0  410.0  205.0   \n",
       "1                139489.0  18186.0    582.0    72.0   25.0   12.0    7.0   \n",
       "\n",
       "leagues_renewed    7     8    288  \n",
       "new                                \n",
       "0                129.0  80.0  1.0  \n",
       "1                  2.0   3.0  NaN  "
      ]
     },
     "execution_count": 9,
     "metadata": {},
     "output_type": "execute_result"
    }
   ],
   "source": [
    "agb.count().unstack()"
   ]
  },
  {
   "cell_type": "code",
   "execution_count": 10,
   "metadata": {
    "collapsed": true
   },
   "outputs": [],
   "source": [
    "from bokeh.plotting import figure, output_file, show, output_notebook,ColumnDataSource\n",
    "from bokeh.models import HoverTool,ColorBar, LogColorMapper"
   ]
  },
  {
   "cell_type": "code",
   "execution_count": 11,
   "metadata": {},
   "outputs": [
    {
     "name": "stderr",
     "output_type": "stream",
     "text": [
      "/Users/yizhouz/anaconda/lib/python2.7/site-packages/ipykernel_launcher.py:9: DeprecationWarning: \n",
      ".ix is deprecated. Please use\n",
      ".loc for label based indexing or\n",
      ".iloc for positional indexing\n",
      "\n",
      "See the documentation here:\n",
      "http://pandas.pydata.org/pandas-docs/stable/indexing.html#deprecate_ix\n",
      "  if __name__ == '__main__':\n"
     ]
    },
    {
     "data": {
      "text/plain": [
       "[['#456a96',\n",
       "  '#bb9996',\n",
       "  '#44b896',\n",
       "  '#54be96',\n",
       "  '#5fc396',\n",
       "  '#5fc396',\n",
       "  '#67c696',\n",
       "  '#64c496',\n",
       "  '#65c596',\n",
       "  '#6cc896'],\n",
       " ['#452796',\n",
       "  '#bb6596',\n",
       "  '#448496',\n",
       "  '#549b96',\n",
       "  '#5f9896',\n",
       "  '#5fb796',\n",
       "  '#67ab96',\n",
       "  '#646496',\n",
       "  '#650096',\n",
       "  '#6c0096']]"
      ]
     },
     "execution_count": 11,
     "metadata": {},
     "output_type": "execute_result"
    }
   ],
   "source": [
    "sizetable = agb.count().unstack()\n",
    "colortable = agb.mean().unstack()\n",
    "sizetable = sizetable.fillna(0)\n",
    "colortable = colortable.fillna(0)\n",
    "x = ['new','returned']\n",
    "y = np.arange(1,11)\n",
    "colors = [\n",
    "    [\"#%02x%02x%02x\" % (int(r), int(s), 150) \\\n",
    "    for r, s in zip(colortable.ix[0,:]*500 % 196, colortable.ix[0,:]*200)],\n",
    "    [\"#%02x%02x%02x\" % (int(r), int(s), 150) \\\n",
    "    for r, s in zip(colortable.ix[0,:]*500 % 196, colortable.ix[1,:]*200)]\n",
    "]\n",
    "colors"
   ]
  },
  {
   "cell_type": "code",
   "execution_count": 12,
   "metadata": {},
   "outputs": [
    {
     "data": {
      "text/html": [
       "<div>\n",
       "<style>\n",
       "    .dataframe thead tr:only-child th {\n",
       "        text-align: right;\n",
       "    }\n",
       "\n",
       "    .dataframe thead th {\n",
       "        text-align: left;\n",
       "    }\n",
       "\n",
       "    .dataframe tbody tr th {\n",
       "        vertical-align: top;\n",
       "    }\n",
       "</style>\n",
       "<table border=\"1\" class=\"dataframe\">\n",
       "  <thead>\n",
       "    <tr style=\"text-align: right;\">\n",
       "      <th>leagues_renewed</th>\n",
       "      <th>0</th>\n",
       "      <th>1</th>\n",
       "      <th>2</th>\n",
       "      <th>3</th>\n",
       "      <th>4</th>\n",
       "      <th>5</th>\n",
       "      <th>6</th>\n",
       "      <th>7</th>\n",
       "      <th>8</th>\n",
       "      <th>288</th>\n",
       "    </tr>\n",
       "    <tr>\n",
       "      <th>new</th>\n",
       "      <th></th>\n",
       "      <th></th>\n",
       "      <th></th>\n",
       "      <th></th>\n",
       "      <th></th>\n",
       "      <th></th>\n",
       "      <th></th>\n",
       "      <th></th>\n",
       "      <th></th>\n",
       "      <th></th>\n",
       "    </tr>\n",
       "  </thead>\n",
       "  <tbody>\n",
       "    <tr>\n",
       "      <th>0</th>\n",
       "      <td>0.530965</td>\n",
       "      <td>0.766731</td>\n",
       "      <td>0.921189</td>\n",
       "      <td>0.952923</td>\n",
       "      <td>0.97549</td>\n",
       "      <td>0.975610</td>\n",
       "      <td>0.990244</td>\n",
       "      <td>0.984496</td>\n",
       "      <td>0.9875</td>\n",
       "      <td>1.0</td>\n",
       "    </tr>\n",
       "    <tr>\n",
       "      <th>1</th>\n",
       "      <td>0.197249</td>\n",
       "      <td>0.509128</td>\n",
       "      <td>0.664948</td>\n",
       "      <td>0.777778</td>\n",
       "      <td>0.76000</td>\n",
       "      <td>0.916667</td>\n",
       "      <td>0.857143</td>\n",
       "      <td>0.500000</td>\n",
       "      <td>0.0000</td>\n",
       "      <td>0.0</td>\n",
       "    </tr>\n",
       "  </tbody>\n",
       "</table>\n",
       "</div>"
      ],
      "text/plain": [
       "leagues_renewed       0         1         2         3        4         5    \\\n",
       "new                                                                          \n",
       "0                0.530965  0.766731  0.921189  0.952923  0.97549  0.975610   \n",
       "1                0.197249  0.509128  0.664948  0.777778  0.76000  0.916667   \n",
       "\n",
       "leagues_renewed       6         7       8    288  \n",
       "new                                               \n",
       "0                0.990244  0.984496  0.9875  1.0  \n",
       "1                0.857143  0.500000  0.0000  0.0  "
      ]
     },
     "execution_count": 12,
     "metadata": {},
     "output_type": "execute_result"
    }
   ],
   "source": [
    "colortable.fillna(0)"
   ]
  },
  {
   "cell_type": "code",
   "execution_count": 14,
   "metadata": {},
   "outputs": [
    {
     "name": "stderr",
     "output_type": "stream",
     "text": [
      "/Users/yizhouz/anaconda/lib/python2.7/site-packages/bokeh/util/deprecation.py:34: BokehDeprecationWarning: \n",
      "Supplying a user-defined data source AND iterable values to glyph methods is deprecated.\n",
      "\n",
      "See https://github.com/bokeh/bokeh/issues/2056 for more information.\n",
      "\n",
      "  warn(message)\n",
      "/Users/yizhouz/anaconda/lib/python2.7/site-packages/bokeh/util/deprecation.py:34: BokehDeprecationWarning: \n",
      "Supplying a user-defined data source AND iterable values to glyph methods is deprecated.\n",
      "\n",
      "See https://github.com/bokeh/bokeh/issues/2056 for more information.\n",
      "\n",
      "  warn(message)\n",
      "/Users/yizhouz/anaconda/lib/python2.7/site-packages/ipykernel_launcher.py:44: RuntimeWarning: divide by zero encountered in log2\n",
      "/Users/yizhouz/anaconda/lib/python2.7/site-packages/bokeh/util/deprecation.py:34: BokehDeprecationWarning: \n",
      "Supplying a user-defined data source AND iterable values to glyph methods is deprecated.\n",
      "\n",
      "See https://github.com/bokeh/bokeh/issues/2056 for more information.\n",
      "\n",
      "  warn(message)\n",
      "/Users/yizhouz/anaconda/lib/python2.7/site-packages/bokeh/util/deprecation.py:34: BokehDeprecationWarning: \n",
      "Supplying a user-defined data source AND iterable values to glyph methods is deprecated.\n",
      "\n",
      "See https://github.com/bokeh/bokeh/issues/2056 for more information.\n",
      "\n",
      "  warn(message)\n"
     ]
    },
    {
     "data": {
      "text/html": [
       "\n",
       "\n",
       "    <div class=\"bk-root\">\n",
       "        <div class=\"bk-plotdiv\" id=\"eb519fef-ab6c-4550-aa6f-e76baa4f8798\"></div>\n",
       "    </div>\n",
       "<script type=\"text/javascript\">\n",
       "  \n",
       "  (function(global) {\n",
       "    function now() {\n",
       "      return new Date();\n",
       "    }\n",
       "  \n",
       "    var force = false;\n",
       "  \n",
       "    if (typeof (window._bokeh_onload_callbacks) === \"undefined\" || force === true) {\n",
       "      window._bokeh_onload_callbacks = [];\n",
       "      window._bokeh_is_loading = undefined;\n",
       "    }\n",
       "  \n",
       "  \n",
       "    \n",
       "    if (typeof (window._bokeh_timeout) === \"undefined\" || force === true) {\n",
       "      window._bokeh_timeout = Date.now() + 0;\n",
       "      window._bokeh_failed_load = false;\n",
       "    }\n",
       "  \n",
       "    var NB_LOAD_WARNING = {'data': {'text/html':\n",
       "       \"<div style='background-color: #fdd'>\\n\"+\n",
       "       \"<p>\\n\"+\n",
       "       \"BokehJS does not appear to have successfully loaded. If loading BokehJS from CDN, this \\n\"+\n",
       "       \"may be due to a slow or bad network connection. Possible fixes:\\n\"+\n",
       "       \"</p>\\n\"+\n",
       "       \"<ul>\\n\"+\n",
       "       \"<li>re-rerun `output_notebook()` to attempt to load from CDN again, or</li>\\n\"+\n",
       "       \"<li>use INLINE resources instead, as so:</li>\\n\"+\n",
       "       \"</ul>\\n\"+\n",
       "       \"<code>\\n\"+\n",
       "       \"from bokeh.resources import INLINE\\n\"+\n",
       "       \"output_notebook(resources=INLINE)\\n\"+\n",
       "       \"</code>\\n\"+\n",
       "       \"</div>\"}};\n",
       "  \n",
       "    function display_loaded() {\n",
       "      if (window.Bokeh !== undefined) {\n",
       "        var el = document.getElementById(\"eb519fef-ab6c-4550-aa6f-e76baa4f8798\");\n",
       "        el.textContent = \"BokehJS \" + Bokeh.version + \" successfully loaded.\";\n",
       "      } else if (Date.now() < window._bokeh_timeout) {\n",
       "        setTimeout(display_loaded, 100)\n",
       "      }\n",
       "    }\n",
       "  \n",
       "    function run_callbacks() {\n",
       "      window._bokeh_onload_callbacks.forEach(function(callback) { callback() });\n",
       "      delete window._bokeh_onload_callbacks\n",
       "      console.info(\"Bokeh: all callbacks have finished\");\n",
       "    }\n",
       "  \n",
       "    function load_libs(js_urls, callback) {\n",
       "      window._bokeh_onload_callbacks.push(callback);\n",
       "      if (window._bokeh_is_loading > 0) {\n",
       "        console.log(\"Bokeh: BokehJS is being loaded, scheduling callback at\", now());\n",
       "        return null;\n",
       "      }\n",
       "      if (js_urls == null || js_urls.length === 0) {\n",
       "        run_callbacks();\n",
       "        return null;\n",
       "      }\n",
       "      console.log(\"Bokeh: BokehJS not loaded, scheduling load and callback at\", now());\n",
       "      window._bokeh_is_loading = js_urls.length;\n",
       "      for (var i = 0; i < js_urls.length; i++) {\n",
       "        var url = js_urls[i];\n",
       "        var s = document.createElement('script');\n",
       "        s.src = url;\n",
       "        s.async = false;\n",
       "        s.onreadystatechange = s.onload = function() {\n",
       "          window._bokeh_is_loading--;\n",
       "          if (window._bokeh_is_loading === 0) {\n",
       "            console.log(\"Bokeh: all BokehJS libraries loaded\");\n",
       "            run_callbacks()\n",
       "          }\n",
       "        };\n",
       "        s.onerror = function() {\n",
       "          console.warn(\"failed to load library \" + url);\n",
       "        };\n",
       "        console.log(\"Bokeh: injecting script tag for BokehJS library: \", url);\n",
       "        document.getElementsByTagName(\"head\")[0].appendChild(s);\n",
       "      }\n",
       "    };var element = document.getElementById(\"eb519fef-ab6c-4550-aa6f-e76baa4f8798\");\n",
       "    if (element == null) {\n",
       "      console.log(\"Bokeh: ERROR: autoload.js configured with elementid 'eb519fef-ab6c-4550-aa6f-e76baa4f8798' but no matching script tag was found. \")\n",
       "      return false;\n",
       "    }\n",
       "  \n",
       "    var js_urls = [];\n",
       "  \n",
       "    var inline_js = [\n",
       "      function(Bokeh) {\n",
       "        (function() {\n",
       "          var fn = function() {\n",
       "            var docs_json = {\"0dd704fc-7517-40a5-943a-784ea7731230\":{\"roots\":{\"references\":[{\"attributes\":{\"plot\":{\"id\":\"8c71081e-b647-472e-9ad6-d6704335e78d\",\"subtype\":\"Figure\",\"type\":\"Plot\"}},\"id\":\"823cc654-6d56-4a89-82fb-4c8fc0de3d03\",\"type\":\"SaveTool\"},{\"attributes\":{\"callback\":null,\"column_names\":[\"count\",\"y\",\"string_y\",\"ret\",\"x\",\"radius\",\"fill_alpha\"],\"data\":{\"count\":[\"56160\",\"82364\",\"11407\",\"2549\",\"816\",\"410\",\"205\",\"129\",\"80\",\"1\"],\"fill_alpha\":{\"__ndarray__\":\"DLZ3sgoL0j/frXf44M/iP56lJn6jJ+s/4eM5adcO7T/1DihBWnPuP2hQ8HZDde4/5PInku9g7z9DvrAf9APvPxWuR+F6NO8/AAAAAAAA8D8=\",\"dtype\":\"float64\",\"shape\":[10]},\"radius\":{\"__ndarray__\":\"VVuNx1Jwtj9LRyXOeDm3P5IAGVUOK7M/lZGtJO0XsD+eXdrEPoOrP/nZJlw0sKg/d6xO2QbYpT+G3Wh9a/GjP84/K9B8+6E/AAAAAAAAAAA=\",\"dtype\":\"float64\",\"shape\":[10]},\"ret\":[\"53.09\",\"76.67\",\"92.11\",\"95.29\",\"97.54\",\"97.56\",\"99.02\",\"98.44\",\"98.75\",\"100.0\"],\"string_y\":[\"1\",\"2\",\"3\",\"4\",\"5\",\"6\",\"7\",\"8\",\">8\",\">8\"],\"x\":[1,1,1,1,1,1,1,1,1,1],\"y\":[1,2,3,4,5,6,7,8,9,10]}},\"id\":\"030ee428-a645-49f7-b7d6-d12ebc45e130\",\"type\":\"ColumnDataSource\"},{\"attributes\":{\"callback\":null,\"plot\":{\"id\":\"8c71081e-b647-472e-9ad6-d6704335e78d\",\"subtype\":\"Figure\",\"type\":\"Plot\"},\"tooltips\":[[\"leagues #\",\"@string_y\"],[\"count\",\"@count\"],[\"Retention\",\"@ret%\"]]},\"id\":\"c1c8a415-c33a-45ff-92cb-5d8baa80daee\",\"type\":\"HoverTool\"},{\"attributes\":{\"fill_alpha\":{\"value\":0.1},\"fill_color\":{\"value\":\"#1f77b4\"},\"line_alpha\":{\"value\":0.1},\"line_color\":{\"value\":\"#1f77b4\"},\"radius\":{\"field\":\"radius\",\"units\":\"data\"},\"x\":{\"field\":\"x\"},\"y\":{\"field\":\"y\"}},\"id\":\"94376d9b-c94a-49df-89fd-03d899b186ea\",\"type\":\"Circle\"},{\"attributes\":{\"active_drag\":\"auto\",\"active_scroll\":\"auto\",\"active_tap\":\"auto\",\"tools\":[{\"id\":\"c1c8a415-c33a-45ff-92cb-5d8baa80daee\",\"type\":\"HoverTool\"},{\"id\":\"561416cd-40f4-4e3a-8367-5ee49bce2e1f\",\"type\":\"HoverTool\"},{\"id\":\"8de1bd94-6554-448c-ac15-d20bd2726aef\",\"type\":\"PanTool\"},{\"id\":\"823cc654-6d56-4a89-82fb-4c8fc0de3d03\",\"type\":\"SaveTool\"},{\"id\":\"fd785995-b21d-4b95-bfaa-08180b658e18\",\"type\":\"WheelZoomTool\"}]},\"id\":\"9db7e9e1-af60-433c-b39e-aaa2d6275c63\",\"type\":\"Toolbar\"},{\"attributes\":{},\"id\":\"2414c170-c40e-46e4-beb8-519f9530e144\",\"type\":\"BasicTickFormatter\"},{\"attributes\":{\"callback\":null,\"factors\":[\"returned\",\"new\"]},\"id\":\"36cad094-ae4e-4ee3-8cc4-2198ff516ccf\",\"type\":\"FactorRange\"},{\"attributes\":{\"band_fill_alpha\":{\"value\":0.1},\"band_fill_color\":{\"value\":\"beige\"},\"dimension\":1,\"plot\":{\"id\":\"8c71081e-b647-472e-9ad6-d6704335e78d\",\"subtype\":\"Figure\",\"type\":\"Plot\"},\"ticker\":{\"id\":\"e9cd360c-7d48-470d-9f1f-39d7a933673a\",\"type\":\"BasicTicker\"}},\"id\":\"ceea3712-4590-4c16-8530-aa049b5e8804\",\"type\":\"Grid\"},{\"attributes\":{\"plot\":{\"id\":\"8c71081e-b647-472e-9ad6-d6704335e78d\",\"subtype\":\"Figure\",\"type\":\"Plot\"}},\"id\":\"fd785995-b21d-4b95-bfaa-08180b658e18\",\"type\":\"WheelZoomTool\"},{\"attributes\":{},\"id\":\"e9cd360c-7d48-470d-9f1f-39d7a933673a\",\"type\":\"BasicTicker\"},{\"attributes\":{\"below\":[{\"id\":\"d97ecd79-82de-4491-8417-6386721b2099\",\"type\":\"CategoricalAxis\"}],\"left\":[{\"id\":\"d5cb8ca1-d056-4ae0-9cc7-668133a424a0\",\"type\":\"LinearAxis\"}],\"renderers\":[{\"id\":\"d97ecd79-82de-4491-8417-6386721b2099\",\"type\":\"CategoricalAxis\"},{\"id\":\"5d75b186-0a6d-4411-aecd-aa51e8d302ee\",\"type\":\"Grid\"},{\"id\":\"d5cb8ca1-d056-4ae0-9cc7-668133a424a0\",\"type\":\"LinearAxis\"},{\"id\":\"ceea3712-4590-4c16-8530-aa049b5e8804\",\"type\":\"Grid\"},{\"id\":\"9e4504e0-35f3-4872-9123-91f7af375144\",\"type\":\"GlyphRenderer\"},{\"id\":\"6f160b45-987a-4183-b931-357aa7f5e13e\",\"type\":\"GlyphRenderer\"}],\"title\":{\"id\":\"4420aa68-0bcb-4f63-992e-9e40c7939f93\",\"type\":\"Title\"},\"tool_events\":{\"id\":\"c2c6a5d9-74a6-4092-b2e7-0560624878ff\",\"type\":\"ToolEvents\"},\"toolbar\":{\"id\":\"9db7e9e1-af60-433c-b39e-aaa2d6275c63\",\"type\":\"Toolbar\"},\"x_range\":{\"id\":\"36cad094-ae4e-4ee3-8cc4-2198ff516ccf\",\"type\":\"FactorRange\"},\"y_range\":{\"id\":\"1a87b981-c889-46c9-9181-e0425bfc96db\",\"type\":\"Range1d\"}},\"id\":\"8c71081e-b647-472e-9ad6-d6704335e78d\",\"subtype\":\"Figure\",\"type\":\"Plot\"},{\"attributes\":{\"fill_alpha\":{\"field\":\"fill_alpha\"},\"fill_color\":{\"value\":\"#4f1e2e\"},\"line_color\":{\"value\":\"#4f1e2e\"},\"radius\":{\"field\":\"radius\",\"units\":\"data\"},\"x\":{\"field\":\"x\"},\"y\":{\"field\":\"y\"}},\"id\":\"de27ef29-1ae2-4d7a-a369-7c13443d65b4\",\"type\":\"Circle\"},{\"attributes\":{},\"id\":\"ba42a3f0-c0fd-4eb8-a317-0a0750ca3222\",\"type\":\"CategoricalTickFormatter\"},{\"attributes\":{\"align\":\"center\",\"plot\":null,\"text\":\"NBA fantasy users churn analysis 2015-2016\"},\"id\":\"4420aa68-0bcb-4f63-992e-9e40c7939f93\",\"type\":\"Title\"},{\"attributes\":{\"callback\":null,\"end\":11},\"id\":\"1a87b981-c889-46c9-9181-e0425bfc96db\",\"type\":\"Range1d\"},{\"attributes\":{\"axis_label\":\"Player type\",\"formatter\":{\"id\":\"ba42a3f0-c0fd-4eb8-a317-0a0750ca3222\",\"type\":\"CategoricalTickFormatter\"},\"plot\":{\"id\":\"8c71081e-b647-472e-9ad6-d6704335e78d\",\"subtype\":\"Figure\",\"type\":\"Plot\"},\"ticker\":{\"id\":\"4fee247d-417c-4e29-b8b6-70c807e4641a\",\"type\":\"CategoricalTicker\"}},\"id\":\"d97ecd79-82de-4491-8417-6386721b2099\",\"type\":\"CategoricalAxis\"},{\"attributes\":{\"callback\":null,\"column_names\":[\"count\",\"y\",\"string_y\",\"ret\",\"x\",\"radius\",\"fill_alpha\"],\"data\":{\"count\":[\"139489\",\"18186\",\"582\",\"72\",\"25\",\"12\",\"7\",\"2\",\"3\",\"0\"],\"fill_alpha\":{\"__ndarray__\":\"3mi1rp3roz+f4UCn6pbQP9kuxoxKTNw/EIuUgadb4z9dbcX+snviPziO4ziO4+o/4OUUvJyC5z8AAAAAAADQPwAAAAAAAAAAAAAAAAAAAAA=\",\"dtype\":\"float64\",\"shape\":[10]},\"radius\":{\"__ndarray__\":\"/fW4DDROuD8LFHD7DSC0P/k6ntw4IKo/Uuj/Yc2MoT8HJyoTG2uaP9UV2OT6ZJQ/NUpEjQPxjz8XbMEWbMF2P5S/7rKJCII/AAAAAAAA8P8=\",\"dtype\":\"float64\",\"shape\":[10]},\"ret\":[\"19.72\",\"50.91\",\"66.49\",\"77.77\",\"76.0\",\"91.66\",\"85.71\",\"50.0\",\"0.0\",\"0.0\"],\"string_y\":[\"1\",\"2\",\"3\",\"4\",\"5\",\"6\",\"7\",\"8\",\">8\",\">8\"],\"x\":[2,2,2,2,2,2,2,2,2,2],\"y\":[1,2,3,4,5,6,7,8,9,10]}},\"id\":\"9d18bcc5-47fe-4bc3-ac71-e3afc29e4f9e\",\"type\":\"ColumnDataSource\"},{\"attributes\":{\"fill_alpha\":{\"field\":\"fill_alpha\"},\"fill_color\":{\"value\":\"#4f1e2e\"},\"line_color\":{\"value\":\"#4f1e2e\"},\"radius\":{\"field\":\"radius\",\"units\":\"data\"},\"x\":{\"field\":\"x\"},\"y\":{\"field\":\"y\"}},\"id\":\"90d23e1e-4ecf-4968-9da2-699a411839f5\",\"type\":\"Circle\"},{\"attributes\":{\"plot\":{\"id\":\"8c71081e-b647-472e-9ad6-d6704335e78d\",\"subtype\":\"Figure\",\"type\":\"Plot\"},\"ticker\":{\"id\":\"4fee247d-417c-4e29-b8b6-70c807e4641a\",\"type\":\"CategoricalTicker\"},\"visible\":false},\"id\":\"5d75b186-0a6d-4411-aecd-aa51e8d302ee\",\"type\":\"Grid\"},{\"attributes\":{\"plot\":{\"id\":\"8c71081e-b647-472e-9ad6-d6704335e78d\",\"subtype\":\"Figure\",\"type\":\"Plot\"}},\"id\":\"8de1bd94-6554-448c-ac15-d20bd2726aef\",\"type\":\"PanTool\"},{\"attributes\":{\"data_source\":{\"id\":\"9d18bcc5-47fe-4bc3-ac71-e3afc29e4f9e\",\"type\":\"ColumnDataSource\"},\"glyph\":{\"id\":\"de27ef29-1ae2-4d7a-a369-7c13443d65b4\",\"type\":\"Circle\"},\"hover_glyph\":null,\"muted_glyph\":null,\"nonselection_glyph\":{\"id\":\"94376d9b-c94a-49df-89fd-03d899b186ea\",\"type\":\"Circle\"},\"selection_glyph\":null},\"id\":\"6f160b45-987a-4183-b931-357aa7f5e13e\",\"type\":\"GlyphRenderer\"},{\"attributes\":{},\"id\":\"c2c6a5d9-74a6-4092-b2e7-0560624878ff\",\"type\":\"ToolEvents\"},{\"attributes\":{\"fill_alpha\":{\"value\":0.1},\"fill_color\":{\"value\":\"#1f77b4\"},\"line_alpha\":{\"value\":0.1},\"line_color\":{\"value\":\"#1f77b4\"},\"radius\":{\"field\":\"radius\",\"units\":\"data\"},\"x\":{\"field\":\"x\"},\"y\":{\"field\":\"y\"}},\"id\":\"87e64984-2bd7-4a7b-a0eb-bddfbc2c7a55\",\"type\":\"Circle\"},{\"attributes\":{\"axis_label\":\"Number of leagues played\",\"formatter\":{\"id\":\"2414c170-c40e-46e4-beb8-519f9530e144\",\"type\":\"BasicTickFormatter\"},\"plot\":{\"id\":\"8c71081e-b647-472e-9ad6-d6704335e78d\",\"subtype\":\"Figure\",\"type\":\"Plot\"},\"ticker\":{\"id\":\"e9cd360c-7d48-470d-9f1f-39d7a933673a\",\"type\":\"BasicTicker\"}},\"id\":\"d5cb8ca1-d056-4ae0-9cc7-668133a424a0\",\"type\":\"LinearAxis\"},{\"attributes\":{\"callback\":null,\"plot\":{\"id\":\"8c71081e-b647-472e-9ad6-d6704335e78d\",\"subtype\":\"Figure\",\"type\":\"Plot\"},\"tooltips\":[[\"leagues #\",\"@string_y\"],[\"count\",\"@count\"],[\"Retention\",\"@ret%\"]]},\"id\":\"561416cd-40f4-4e3a-8367-5ee49bce2e1f\",\"type\":\"HoverTool\"},{\"attributes\":{},\"id\":\"4fee247d-417c-4e29-b8b6-70c807e4641a\",\"type\":\"CategoricalTicker\"},{\"attributes\":{\"data_source\":{\"id\":\"030ee428-a645-49f7-b7d6-d12ebc45e130\",\"type\":\"ColumnDataSource\"},\"glyph\":{\"id\":\"90d23e1e-4ecf-4968-9da2-699a411839f5\",\"type\":\"Circle\"},\"hover_glyph\":null,\"muted_glyph\":null,\"nonselection_glyph\":{\"id\":\"87e64984-2bd7-4a7b-a0eb-bddfbc2c7a55\",\"type\":\"Circle\"},\"selection_glyph\":null},\"id\":\"9e4504e0-35f3-4872-9123-91f7af375144\",\"type\":\"GlyphRenderer\"}],\"root_ids\":[\"8c71081e-b647-472e-9ad6-d6704335e78d\"]},\"title\":\"Bokeh Application\",\"version\":\"0.12.5\"}};\n",
       "            var render_items = [{\"docid\":\"0dd704fc-7517-40a5-943a-784ea7731230\",\"elementid\":\"eb519fef-ab6c-4550-aa6f-e76baa4f8798\",\"modelid\":\"8c71081e-b647-472e-9ad6-d6704335e78d\"}];\n",
       "            \n",
       "            Bokeh.embed.embed_items(docs_json, render_items);\n",
       "          };\n",
       "          if (document.readyState != \"loading\") fn();\n",
       "          else document.addEventListener(\"DOMContentLoaded\", fn);\n",
       "        })();\n",
       "      },\n",
       "      function(Bokeh) {\n",
       "      }\n",
       "    ];\n",
       "  \n",
       "    function run_inline_js() {\n",
       "      \n",
       "      if ((window.Bokeh !== undefined) || (force === true)) {\n",
       "        for (var i = 0; i < inline_js.length; i++) {\n",
       "          inline_js[i](window.Bokeh);\n",
       "        }if (force === true) {\n",
       "          display_loaded();\n",
       "        }} else if (Date.now() < window._bokeh_timeout) {\n",
       "        setTimeout(run_inline_js, 100);\n",
       "      } else if (!window._bokeh_failed_load) {\n",
       "        console.log(\"Bokeh: BokehJS failed to load within specified timeout.\");\n",
       "        window._bokeh_failed_load = true;\n",
       "      } else if (force !== true) {\n",
       "        var cell = $(document.getElementById(\"eb519fef-ab6c-4550-aa6f-e76baa4f8798\")).parents('.cell').data().cell;\n",
       "        cell.output_area.append_execute_result(NB_LOAD_WARNING)\n",
       "      }\n",
       "  \n",
       "    }\n",
       "  \n",
       "    if (window._bokeh_is_loading === 0) {\n",
       "      console.log(\"Bokeh: BokehJS loaded, going straight to plotting\");\n",
       "      run_inline_js();\n",
       "    } else {\n",
       "      load_libs(js_urls, function() {\n",
       "        console.log(\"Bokeh: BokehJS plotting callback run at\", now());\n",
       "        run_inline_js();\n",
       "      });\n",
       "    }\n",
       "  }(this));\n",
       "</script>"
      ]
     },
     "metadata": {},
     "output_type": "display_data"
    }
   ],
   "source": [
    "hover1 = HoverTool(tooltips = [\n",
    "    #(\"User Type\",\"@type\"),\n",
    "    (\"leagues #\", \"@string_y\"),\n",
    "    (\"count\", \"@count\"),\n",
    "    (\"Retention\",\"@ret%\")\n",
    "])\n",
    "\n",
    "source1 = ColumnDataSource(data = dict(\n",
    "    x = np.repeat(1,10),\n",
    "    y = np.arange(1,11),\n",
    "    string_y = [str(i) if i < 9 else \">8\"for i in range(1,11)],\n",
    "    count = [str(int(i)) for i in sizetable.ix[0,:]],\n",
    "    ret = [str(i) for i in np.floor(10000*colortable.ix[0,:])/100]\n",
    "))\n",
    "\n",
    "hover2 = HoverTool(tooltips = [\n",
    "    #(\"User Type\",\"@type\"),\n",
    "    (\"leagues #\", \"@string_y\"),\n",
    "    (\"count\", \"@count\"),\n",
    "    (\"Retention\",\"@ret%\")\n",
    "])\n",
    "\n",
    "source2 = ColumnDataSource(data = dict(\n",
    "    x = np.repeat(2,10),\n",
    "    y = np.arange(1,11),\n",
    "    string_y = [str(i) if i < 9 else \">8\"for i in range(1,11)],\n",
    "    count = [str(int(i)) for i in sizetable.ix[1,:]],\n",
    "    ret = [str(i) for i in np.floor(10000*colortable.ix[1,:])/100]\n",
    "))\n",
    "\n",
    "\n",
    "TOOLS=\"resize,pan,wheel_zoom,box_zoom,reset,box_select,save\"\n",
    "p = figure(tools=[hover1,hover2,\"pan\",\"save\",\"wheel_zoom\"],x_range =[\"returned\",\"new\"], y_range=(0,11))\n",
    "#p.circle(np.repeat(1,10),y,radius = (np.log2(sizetable.ix[0,:])/180),\n",
    "#         fill_alpha = colortable.ix[0,:]**2,\n",
    "#         fill_color = \"#4f1e2e\",line_color = \"#4f1e2e\")\n",
    "\n",
    "p.circle('x', 'y',radius = (np.log2(sizetable.ix[0,:])/180), \n",
    "         fill_alpha = colortable.ix[0,:]**2,fill_color = \"#4f1e2e\",line_color = \"#4f1e2e\",\n",
    "         source=source1)\n",
    "#p.circle(np.repeat(2,10),y,radius = (np.log2(sizetable.ix[1,:])/180),\n",
    "#         fill_alpha = colortable.ix[1,:]**2,\n",
    "#        fill_color = '#4f1e2e',line_color = \"#4f1e2e\")\n",
    "p.circle('x', 'y',radius = (np.log2(sizetable.ix[1,:])/180), \n",
    "         fill_alpha = colortable.ix[1,:]**2,fill_color = \"#4f1e2e\",line_color = \"#4f1e2e\",\n",
    "         source=source2)   \n",
    "#Style\n",
    "p.title.text = \"NBA fantasy users churn analysis 2015-2016\"\n",
    "p.title.align = \"center\"\n",
    "p.yaxis.axis_label = \"Number of leagues played\"\n",
    "p.xaxis.axis_label = \"Player type\"\n",
    "p.xgrid.visible = False\n",
    "p.ygrid.band_fill_alpha = 0.1\n",
    "p.ygrid.band_fill_color = \"beige\"\n",
    "\n",
    "\n",
    "#Color bar\n",
    "#color_mapper = LogColorMapper(palette=\"#Blue8\", low=1, high=1e7)\n",
    "#color_bar = ColorBar(color_mapper =  colors[0])\n",
    "#p.add_layout(color_bar)\n",
    "\n",
    "output_file(\"nba_fantasy_ana.html\")\n",
    "show(p)"
   ]
  },
  {
   "cell_type": "code",
   "execution_count": 240,
   "metadata": {},
   "outputs": [
    {
     "data": {
      "text/plain": [
       "has_custom_logo\n",
       "0    0.404410\n",
       "1    0.660929\n",
       "Name: returned, dtype: float64"
      ]
     },
     "execution_count": 240,
     "metadata": {},
     "output_type": "execute_result"
    }
   ],
   "source": [
    "agd = data.groupby(['has_custom_logo'])['returned']\n",
    "agd.mean()"
   ]
  },
  {
   "cell_type": "code",
   "execution_count": 248,
   "metadata": {},
   "outputs": [
    {
     "data": {
      "text/html": [
       "\n",
       "\n",
       "    <div class=\"bk-root\">\n",
       "        <div class=\"bk-plotdiv\" id=\"9991a10b-7fdd-4d8b-92e4-ffec1a3b04c9\"></div>\n",
       "    </div>\n",
       "<script type=\"text/javascript\">\n",
       "  \n",
       "  (function(global) {\n",
       "    function now() {\n",
       "      return new Date();\n",
       "    }\n",
       "  \n",
       "    var force = false;\n",
       "  \n",
       "    if (typeof (window._bokeh_onload_callbacks) === \"undefined\" || force === true) {\n",
       "      window._bokeh_onload_callbacks = [];\n",
       "      window._bokeh_is_loading = undefined;\n",
       "    }\n",
       "  \n",
       "  \n",
       "    \n",
       "    if (typeof (window._bokeh_timeout) === \"undefined\" || force === true) {\n",
       "      window._bokeh_timeout = Date.now() + 0;\n",
       "      window._bokeh_failed_load = false;\n",
       "    }\n",
       "  \n",
       "    var NB_LOAD_WARNING = {'data': {'text/html':\n",
       "       \"<div style='background-color: #fdd'>\\n\"+\n",
       "       \"<p>\\n\"+\n",
       "       \"BokehJS does not appear to have successfully loaded. If loading BokehJS from CDN, this \\n\"+\n",
       "       \"may be due to a slow or bad network connection. Possible fixes:\\n\"+\n",
       "       \"</p>\\n\"+\n",
       "       \"<ul>\\n\"+\n",
       "       \"<li>re-rerun `output_notebook()` to attempt to load from CDN again, or</li>\\n\"+\n",
       "       \"<li>use INLINE resources instead, as so:</li>\\n\"+\n",
       "       \"</ul>\\n\"+\n",
       "       \"<code>\\n\"+\n",
       "       \"from bokeh.resources import INLINE\\n\"+\n",
       "       \"output_notebook(resources=INLINE)\\n\"+\n",
       "       \"</code>\\n\"+\n",
       "       \"</div>\"}};\n",
       "  \n",
       "    function display_loaded() {\n",
       "      if (window.Bokeh !== undefined) {\n",
       "        var el = document.getElementById(\"9991a10b-7fdd-4d8b-92e4-ffec1a3b04c9\");\n",
       "        el.textContent = \"BokehJS \" + Bokeh.version + \" successfully loaded.\";\n",
       "      } else if (Date.now() < window._bokeh_timeout) {\n",
       "        setTimeout(display_loaded, 100)\n",
       "      }\n",
       "    }\n",
       "  \n",
       "    function run_callbacks() {\n",
       "      window._bokeh_onload_callbacks.forEach(function(callback) { callback() });\n",
       "      delete window._bokeh_onload_callbacks\n",
       "      console.info(\"Bokeh: all callbacks have finished\");\n",
       "    }\n",
       "  \n",
       "    function load_libs(js_urls, callback) {\n",
       "      window._bokeh_onload_callbacks.push(callback);\n",
       "      if (window._bokeh_is_loading > 0) {\n",
       "        console.log(\"Bokeh: BokehJS is being loaded, scheduling callback at\", now());\n",
       "        return null;\n",
       "      }\n",
       "      if (js_urls == null || js_urls.length === 0) {\n",
       "        run_callbacks();\n",
       "        return null;\n",
       "      }\n",
       "      console.log(\"Bokeh: BokehJS not loaded, scheduling load and callback at\", now());\n",
       "      window._bokeh_is_loading = js_urls.length;\n",
       "      for (var i = 0; i < js_urls.length; i++) {\n",
       "        var url = js_urls[i];\n",
       "        var s = document.createElement('script');\n",
       "        s.src = url;\n",
       "        s.async = false;\n",
       "        s.onreadystatechange = s.onload = function() {\n",
       "          window._bokeh_is_loading--;\n",
       "          if (window._bokeh_is_loading === 0) {\n",
       "            console.log(\"Bokeh: all BokehJS libraries loaded\");\n",
       "            run_callbacks()\n",
       "          }\n",
       "        };\n",
       "        s.onerror = function() {\n",
       "          console.warn(\"failed to load library \" + url);\n",
       "        };\n",
       "        console.log(\"Bokeh: injecting script tag for BokehJS library: \", url);\n",
       "        document.getElementsByTagName(\"head\")[0].appendChild(s);\n",
       "      }\n",
       "    };var element = document.getElementById(\"9991a10b-7fdd-4d8b-92e4-ffec1a3b04c9\");\n",
       "    if (element == null) {\n",
       "      console.log(\"Bokeh: ERROR: autoload.js configured with elementid '9991a10b-7fdd-4d8b-92e4-ffec1a3b04c9' but no matching script tag was found. \")\n",
       "      return false;\n",
       "    }\n",
       "  \n",
       "    var js_urls = [];\n",
       "  \n",
       "    var inline_js = [\n",
       "      function(Bokeh) {\n",
       "        (function() {\n",
       "          var fn = function() {\n",
       "            var docs_json = {\"ce3b079f-407b-4bec-9c11-e53db9f8cce5\":{\"roots\":{\"references\":[{\"attributes\":{\"callback\":null,\"end\":1.6500000000000001,\"start\":-1.6500000000000001},\"id\":\"8855d9df-d089-4309-9d5a-2ac10f7bc74b\",\"type\":\"Range1d\"},{\"attributes\":{\"callback\":null,\"column_names\":[\"index\",\"end\",\"inners\",\"level\",\"color\",\"start\",\"values\",\"outers\",\"centers\"],\"data\":{\"centers\":{\"__ndarray__\":\"AAAAAAAA8j8AAAAAAADyPw==\",\"dtype\":\"float64\",\"shape\":[2]},\"color\":[\"#f22c40\",\"#5ab738\"],\"end\":{\"__ndarray__\":\"LHmVvpgvD0AYLURU+yEZQA==\",\"dtype\":\"float64\",\"shape\":[2]},\"index\":[\"Does not\",\"Has custom logo\"],\"inners\":{\"__ndarray__\":\"AAAAAAAAAAAAAAAAAAAAAA==\",\"dtype\":\"float64\",\"shape\":[2]},\"level\":{\"__ndarray__\":\"AAAAAAAAAAAAAAAAAAAAAA==\",\"dtype\":\"float64\",\"shape\":[2]},\"outers\":{\"__ndarray__\":\"AAAAAAAA+D8AAAAAAAD4Pw==\",\"dtype\":\"float64\",\"shape\":[2]},\"start\":{\"__ndarray__\":\"AAAAAAAAAAAseZW+mC8PQA==\",\"dtype\":\"float64\",\"shape\":[2]},\"values\":{\"__ndarray__\":\"9P3UeOkm5T9SJ6CJsOHZPw==\",\"dtype\":\"float64\",\"shape\":[2]}}},\"id\":\"4627cb69-c119-4799-b2e1-8ba36fef23b8\",\"type\":\"ColumnDataSource\"},{\"attributes\":{\"callback\":null,\"end\":1.6500000000000001,\"start\":-1.6500000000000001},\"id\":\"37f419c0-98c6-44ec-bd65-7b7ec16aa6ea\",\"type\":\"Range1d\"},{\"attributes\":{\"plot\":{\"id\":\"56d73d47-0172-475d-af1d-c7a23aefe0aa\",\"subtype\":\"Chart\",\"type\":\"Plot\"}},\"id\":\"affad22b-4f0c-4253-819d-6ea4845d9da1\",\"type\":\"WheelZoomTool\"},{\"attributes\":{\"overlay\":{\"id\":\"668b3733-bbb8-4495-a1b6-a9f19a1f034b\",\"type\":\"BoxAnnotation\"},\"plot\":{\"id\":\"56d73d47-0172-475d-af1d-c7a23aefe0aa\",\"subtype\":\"Chart\",\"type\":\"Plot\"}},\"id\":\"06826991-fb71-49c5-b8b1-9ad0816d5af7\",\"type\":\"BoxZoomTool\"},{\"attributes\":{\"data_source\":{\"id\":\"4627cb69-c119-4799-b2e1-8ba36fef23b8\",\"type\":\"ColumnDataSource\"},\"glyph\":{\"id\":\"2da99d90-4f88-49e1-bbb0-7cf2fa54ac2c\",\"type\":\"AnnularWedge\"},\"hover_glyph\":null,\"muted_glyph\":null},\"id\":\"1c0d0d0e-3448-43b6-af1a-148228bf9a4a\",\"type\":\"GlyphRenderer\"},{\"attributes\":{\"below\":[{\"id\":\"aa099517-419b-49ae-b7d6-165b2a18aa7f\",\"type\":\"LinearAxis\"}],\"css_classes\":null,\"left\":[{\"id\":\"21e32c2c-65a3-4c9d-9654-bde9903c47e7\",\"type\":\"LinearAxis\"}],\"plot_height\":400,\"plot_width\":400,\"renderers\":[{\"id\":\"668b3733-bbb8-4495-a1b6-a9f19a1f034b\",\"type\":\"BoxAnnotation\"},{\"id\":\"1c0d0d0e-3448-43b6-af1a-148228bf9a4a\",\"type\":\"GlyphRenderer\"},{\"id\":\"e0b13952-9aa8-4142-ad39-6bb3bf1f1704\",\"type\":\"GlyphRenderer\"},{\"id\":\"ccf16e12-a875-4591-ad56-e00afc49dc91\",\"type\":\"Legend\"},{\"id\":\"aa099517-419b-49ae-b7d6-165b2a18aa7f\",\"type\":\"LinearAxis\"},{\"id\":\"21e32c2c-65a3-4c9d-9654-bde9903c47e7\",\"type\":\"LinearAxis\"}],\"title\":{\"id\":\"56117875-5fe1-4e21-8bce-72e390c952b6\",\"type\":\"Title\"},\"tool_events\":{\"id\":\"eaa419ba-13c5-4b59-b509-f9df55b79b3b\",\"type\":\"ToolEvents\"},\"toolbar\":{\"id\":\"482010fd-dad5-47d9-9ee9-1723b5c783d0\",\"type\":\"Toolbar\"},\"x_mapper_type\":\"auto\",\"x_range\":{\"id\":\"37f419c0-98c6-44ec-bd65-7b7ec16aa6ea\",\"type\":\"Range1d\"},\"y_mapper_type\":\"auto\",\"y_range\":{\"id\":\"8855d9df-d089-4309-9d5a-2ac10f7bc74b\",\"type\":\"Range1d\"}},\"id\":\"56d73d47-0172-475d-af1d-c7a23aefe0aa\",\"subtype\":\"Chart\",\"type\":\"Plot\"},{\"attributes\":{\"bottom_units\":\"screen\",\"fill_alpha\":{\"value\":0.5},\"fill_color\":{\"value\":\"lightgrey\"},\"left_units\":\"screen\",\"level\":\"overlay\",\"line_alpha\":{\"value\":1.0},\"line_color\":{\"value\":\"black\"},\"line_dash\":[4,4],\"line_width\":{\"value\":2},\"plot\":null,\"render_mode\":\"css\",\"right_units\":\"screen\",\"top_units\":\"screen\"},\"id\":\"668b3733-bbb8-4495-a1b6-a9f19a1f034b\",\"type\":\"BoxAnnotation\"},{\"attributes\":{\"plot\":null,\"text\":\"Custom Logo\"},\"id\":\"56117875-5fe1-4e21-8bce-72e390c952b6\",\"type\":\"Title\"},{\"attributes\":{},\"id\":\"33038d50-55b4-431e-9090-e5ce3bbf4f8c\",\"type\":\"BasicTickFormatter\"},{\"attributes\":{\"end_angle\":{\"field\":\"end\",\"units\":\"rad\"},\"fill_alpha\":{\"value\":0.8},\"fill_color\":{\"field\":\"color\"},\"inner_radius\":{\"field\":\"inners\",\"units\":\"data\"},\"line_color\":{\"value\":\"White\"},\"outer_radius\":{\"field\":\"outers\",\"units\":\"data\"},\"start_angle\":{\"field\":\"start\",\"units\":\"rad\"},\"x\":{\"value\":0},\"y\":{\"value\":0}},\"id\":\"2da99d90-4f88-49e1-bbb0-7cf2fa54ac2c\",\"type\":\"AnnularWedge\"},{\"attributes\":{\"callback\":null,\"column_names\":[\"y\",\"x\",\"text_angle\",\"text\"],\"data\":{\"text\":[\"Does not\",\"Has custom logo\"],\"text_angle\":{\"__ndarray__\":\"AAAAAAAAAAAAAAAAAAAAAA==\",\"dtype\":\"float64\",\"shape\":[2]},\"x\":[-0.41553389449880573,0.4155338944988056],\"y\":[1.0454456382436417,-1.045445638243642]}},\"id\":\"3b0dd01a-0159-4e21-8bb7-66df6ad96f63\",\"type\":\"ColumnDataSource\"},{\"attributes\":{\"plot\":{\"id\":\"56d73d47-0172-475d-af1d-c7a23aefe0aa\",\"subtype\":\"Chart\",\"type\":\"Plot\"}},\"id\":\"82edc718-488c-463f-8024-04cfe2b96ac3\",\"type\":\"HelpTool\"},{\"attributes\":{\"data_source\":{\"id\":\"3b0dd01a-0159-4e21-8bb7-66df6ad96f63\",\"type\":\"ColumnDataSource\"},\"glyph\":{\"id\":\"d2fbabf5-c509-4e53-8942-173fd1f2c903\",\"type\":\"Text\"},\"hover_glyph\":null,\"muted_glyph\":null},\"id\":\"e0b13952-9aa8-4142-ad39-6bb3bf1f1704\",\"type\":\"GlyphRenderer\"},{\"attributes\":{},\"id\":\"73ff9fb2-f889-4855-913d-ae76c1815278\",\"type\":\"BasicTicker\"},{\"attributes\":{\"callback\":null,\"plot\":{\"id\":\"56d73d47-0172-475d-af1d-c7a23aefe0aa\",\"subtype\":\"Chart\",\"type\":\"Plot\"},\"tooltips\":[[\"Value\",\"@values\"]]},\"id\":\"cd66f3c1-c1d8-492f-83ed-7b5230df8d6f\",\"type\":\"HoverTool\"},{\"attributes\":{\"axis_label\":null,\"formatter\":{\"id\":\"33038d50-55b4-431e-9090-e5ce3bbf4f8c\",\"type\":\"BasicTickFormatter\"},\"plot\":{\"id\":\"56d73d47-0172-475d-af1d-c7a23aefe0aa\",\"subtype\":\"Chart\",\"type\":\"Plot\"},\"ticker\":{\"id\":\"73ff9fb2-f889-4855-913d-ae76c1815278\",\"type\":\"BasicTicker\"},\"visible\":false},\"id\":\"aa099517-419b-49ae-b7d6-165b2a18aa7f\",\"type\":\"LinearAxis\"},{\"attributes\":{\"location\":\"top_left\",\"plot\":{\"id\":\"56d73d47-0172-475d-af1d-c7a23aefe0aa\",\"subtype\":\"Chart\",\"type\":\"Plot\"}},\"id\":\"ccf16e12-a875-4591-ad56-e00afc49dc91\",\"type\":\"Legend\"},{\"attributes\":{\"plot\":{\"id\":\"56d73d47-0172-475d-af1d-c7a23aefe0aa\",\"subtype\":\"Chart\",\"type\":\"Plot\"}},\"id\":\"1ebbef85-6f0b-48a5-ac64-65ddf0b6096d\",\"type\":\"PanTool\"},{\"attributes\":{\"angle\":{\"field\":\"text_angle\",\"units\":\"rad\"},\"text_align\":\"center\",\"text_baseline\":\"middle\",\"text_font_size\":{\"value\":\"10pt\"},\"x\":{\"field\":\"x\"},\"y\":{\"field\":\"y\"}},\"id\":\"d2fbabf5-c509-4e53-8942-173fd1f2c903\",\"type\":\"Text\"},{\"attributes\":{},\"id\":\"f460ddad-dab9-4ea2-8503-26b42f18c80c\",\"type\":\"BasicTickFormatter\"},{\"attributes\":{\"plot\":{\"id\":\"56d73d47-0172-475d-af1d-c7a23aefe0aa\",\"subtype\":\"Chart\",\"type\":\"Plot\"}},\"id\":\"3ec6f358-e2a9-44b7-b382-8bfa84f97266\",\"type\":\"ResetTool\"},{\"attributes\":{\"axis_label\":null,\"formatter\":{\"id\":\"f460ddad-dab9-4ea2-8503-26b42f18c80c\",\"type\":\"BasicTickFormatter\"},\"plot\":{\"id\":\"56d73d47-0172-475d-af1d-c7a23aefe0aa\",\"subtype\":\"Chart\",\"type\":\"Plot\"},\"ticker\":{\"id\":\"27f26bce-0d9c-477b-a806-e6d35483e83b\",\"type\":\"BasicTicker\"},\"visible\":false},\"id\":\"21e32c2c-65a3-4c9d-9654-bde9903c47e7\",\"type\":\"LinearAxis\"},{\"attributes\":{\"plot\":{\"id\":\"56d73d47-0172-475d-af1d-c7a23aefe0aa\",\"subtype\":\"Chart\",\"type\":\"Plot\"}},\"id\":\"422f4119-633e-4ae3-99be-f52aafbb4ca5\",\"type\":\"SaveTool\"},{\"attributes\":{\"active_drag\":\"auto\",\"active_scroll\":\"auto\",\"active_tap\":\"auto\",\"tools\":[{\"id\":\"1ebbef85-6f0b-48a5-ac64-65ddf0b6096d\",\"type\":\"PanTool\"},{\"id\":\"affad22b-4f0c-4253-819d-6ea4845d9da1\",\"type\":\"WheelZoomTool\"},{\"id\":\"06826991-fb71-49c5-b8b1-9ad0816d5af7\",\"type\":\"BoxZoomTool\"},{\"id\":\"422f4119-633e-4ae3-99be-f52aafbb4ca5\",\"type\":\"SaveTool\"},{\"id\":\"3ec6f358-e2a9-44b7-b382-8bfa84f97266\",\"type\":\"ResetTool\"},{\"id\":\"82edc718-488c-463f-8024-04cfe2b96ac3\",\"type\":\"HelpTool\"},{\"id\":\"cd66f3c1-c1d8-492f-83ed-7b5230df8d6f\",\"type\":\"HoverTool\"}]},\"id\":\"482010fd-dad5-47d9-9ee9-1723b5c783d0\",\"type\":\"Toolbar\"},{\"attributes\":{},\"id\":\"eaa419ba-13c5-4b59-b509-f9df55b79b3b\",\"type\":\"ToolEvents\"},{\"attributes\":{},\"id\":\"27f26bce-0d9c-477b-a806-e6d35483e83b\",\"type\":\"BasicTicker\"}],\"root_ids\":[\"56d73d47-0172-475d-af1d-c7a23aefe0aa\"]},\"title\":\"Bokeh Application\",\"version\":\"0.12.5\"}};\n",
       "            var render_items = [{\"docid\":\"ce3b079f-407b-4bec-9c11-e53db9f8cce5\",\"elementid\":\"9991a10b-7fdd-4d8b-92e4-ffec1a3b04c9\",\"modelid\":\"56d73d47-0172-475d-af1d-c7a23aefe0aa\"}];\n",
       "            \n",
       "            Bokeh.embed.embed_items(docs_json, render_items);\n",
       "          };\n",
       "          if (document.readyState != \"loading\") fn();\n",
       "          else document.addEventListener(\"DOMContentLoaded\", fn);\n",
       "        })();\n",
       "      },\n",
       "      function(Bokeh) {\n",
       "      }\n",
       "    ];\n",
       "  \n",
       "    function run_inline_js() {\n",
       "      \n",
       "      if ((window.Bokeh !== undefined) || (force === true)) {\n",
       "        for (var i = 0; i < inline_js.length; i++) {\n",
       "          inline_js[i](window.Bokeh);\n",
       "        }if (force === true) {\n",
       "          display_loaded();\n",
       "        }} else if (Date.now() < window._bokeh_timeout) {\n",
       "        setTimeout(run_inline_js, 100);\n",
       "      } else if (!window._bokeh_failed_load) {\n",
       "        console.log(\"Bokeh: BokehJS failed to load within specified timeout.\");\n",
       "        window._bokeh_failed_load = true;\n",
       "      } else if (force !== true) {\n",
       "        var cell = $(document.getElementById(\"9991a10b-7fdd-4d8b-92e4-ffec1a3b04c9\")).parents('.cell').data().cell;\n",
       "        cell.output_area.append_execute_result(NB_LOAD_WARNING)\n",
       "      }\n",
       "  \n",
       "    }\n",
       "  \n",
       "    if (window._bokeh_is_loading === 0) {\n",
       "      console.log(\"Bokeh: BokehJS loaded, going straight to plotting\");\n",
       "      run_inline_js();\n",
       "    } else {\n",
       "      load_libs(js_urls, function() {\n",
       "        console.log(\"Bokeh: BokehJS plotting callback run at\", now());\n",
       "        run_inline_js();\n",
       "      });\n",
       "    }\n",
       "  }(this));\n",
       "</script>"
      ]
     },
     "metadata": {},
     "output_type": "display_data"
    }
   ],
   "source": [
    "from bokeh.charts import Donut\n",
    "piedata = pd.Series([0.4044,0.661],index = [\"Has custom logo\",\"Does not\"])\n",
    "pie_chart = Donut(piedata)\n",
    "pie_chart.title.text = \"Custom Logo\"\n",
    "show(pie_chart)"
   ]
  },
  {
   "cell_type": "code",
   "execution_count": 15,
   "metadata": {
    "collapsed": true
   },
   "outputs": [],
   "source": [
    "his = pd.read_csv(\"nba_user_history.csv\")"
   ]
  },
  {
   "cell_type": "code",
   "execution_count": 16,
   "metadata": {},
   "outputs": [
    {
     "data": {
      "text/html": [
       "<div>\n",
       "<style>\n",
       "    .dataframe thead tr:only-child th {\n",
       "        text-align: right;\n",
       "    }\n",
       "\n",
       "    .dataframe thead th {\n",
       "        text-align: left;\n",
       "    }\n",
       "\n",
       "    .dataframe tbody tr th {\n",
       "        vertical-align: top;\n",
       "    }\n",
       "</style>\n",
       "<table border=\"1\" class=\"dataframe\">\n",
       "  <thead>\n",
       "    <tr style=\"text-align: right;\">\n",
       "      <th></th>\n",
       "      <th>GAME NAME</th>\n",
       "      <th>game id</th>\n",
       "      <th>Total number of users</th>\n",
       "      <th>Number of comissisoners</th>\n",
       "      <th>Percentage of comissoners</th>\n",
       "      <th>Users return from last year</th>\n",
       "      <th>User returning rate</th>\n",
       "      <th>Commissioner continue from last year</th>\n",
       "      <th>commissioner continuing rate</th>\n",
       "      <th>Commissioner return from last year</th>\n",
       "      <th>Commissioner returning rate</th>\n",
       "      <th>Player return rom last year</th>\n",
       "      <th>Player returning rate</th>\n",
       "      <th>Player to commissioner</th>\n",
       "      <th>Number of cash users</th>\n",
       "      <th>Avg money spent by each user</th>\n",
       "    </tr>\n",
       "  </thead>\n",
       "  <tbody>\n",
       "    <tr>\n",
       "      <th>0</th>\n",
       "      <td>NBA 2010</td>\n",
       "      <td>249</td>\n",
       "      <td>699831</td>\n",
       "      <td>89248</td>\n",
       "      <td>0.128</td>\n",
       "      <td>NaN</td>\n",
       "      <td>NaN</td>\n",
       "      <td>NaN</td>\n",
       "      <td>NaN</td>\n",
       "      <td>NaN</td>\n",
       "      <td>NaN</td>\n",
       "      <td>NaN</td>\n",
       "      <td>NaN</td>\n",
       "      <td>NaN</td>\n",
       "      <td>NaN</td>\n",
       "      <td>NaN</td>\n",
       "    </tr>\n",
       "    <tr>\n",
       "      <th>1</th>\n",
       "      <td>NBA 2011</td>\n",
       "      <td>265</td>\n",
       "      <td>776118</td>\n",
       "      <td>101752</td>\n",
       "      <td>0.131</td>\n",
       "      <td>355921.0</td>\n",
       "      <td>0.509</td>\n",
       "      <td>36635.0</td>\n",
       "      <td>0.360</td>\n",
       "      <td>53255.0</td>\n",
       "      <td>0.597</td>\n",
       "      <td>302666.0</td>\n",
       "      <td>0.496</td>\n",
       "      <td>18891.0</td>\n",
       "      <td>0.0</td>\n",
       "      <td>0.0</td>\n",
       "    </tr>\n",
       "    <tr>\n",
       "      <th>2</th>\n",
       "      <td>NBA 2012</td>\n",
       "      <td>304</td>\n",
       "      <td>871293</td>\n",
       "      <td>123418</td>\n",
       "      <td>0.142</td>\n",
       "      <td>386082.0</td>\n",
       "      <td>0.497</td>\n",
       "      <td>40914.0</td>\n",
       "      <td>0.332</td>\n",
       "      <td>59027.0</td>\n",
       "      <td>0.580</td>\n",
       "      <td>327055.0</td>\n",
       "      <td>0.485</td>\n",
       "      <td>17564.0</td>\n",
       "      <td>0.0</td>\n",
       "      <td>0.0</td>\n",
       "    </tr>\n",
       "    <tr>\n",
       "      <th>3</th>\n",
       "      <td>NBA 2013</td>\n",
       "      <td>322</td>\n",
       "      <td>841293</td>\n",
       "      <td>125293</td>\n",
       "      <td>0.149</td>\n",
       "      <td>391295.0</td>\n",
       "      <td>0.449</td>\n",
       "      <td>42485.0</td>\n",
       "      <td>0.339</td>\n",
       "      <td>60111.0</td>\n",
       "      <td>0.487</td>\n",
       "      <td>331184.0</td>\n",
       "      <td>0.443</td>\n",
       "      <td>19406.0</td>\n",
       "      <td>0.0</td>\n",
       "      <td>0.0</td>\n",
       "    </tr>\n",
       "    <tr>\n",
       "      <th>4</th>\n",
       "      <td>NBA 2014</td>\n",
       "      <td>342</td>\n",
       "      <td>865890</td>\n",
       "      <td>122878</td>\n",
       "      <td>0.142</td>\n",
       "      <td>388945.0</td>\n",
       "      <td>0.462</td>\n",
       "      <td>43629.0</td>\n",
       "      <td>0.355</td>\n",
       "      <td>61124.0</td>\n",
       "      <td>0.488</td>\n",
       "      <td>327821.0</td>\n",
       "      <td>0.458</td>\n",
       "      <td>17535.0</td>\n",
       "      <td>0.0</td>\n",
       "      <td>0.0</td>\n",
       "    </tr>\n",
       "  </tbody>\n",
       "</table>\n",
       "</div>"
      ],
      "text/plain": [
       "  GAME NAME  game id  Total number of users   Number of comissisoners  \\\n",
       "0  NBA 2010      249                  699831                    89248   \n",
       "1  NBA 2011      265                  776118                   101752   \n",
       "2  NBA 2012      304                  871293                   123418   \n",
       "3  NBA 2013      322                  841293                   125293   \n",
       "4  NBA 2014      342                  865890                   122878   \n",
       "\n",
       "   Percentage of comissoners  Users return from last year  \\\n",
       "0                      0.128                          NaN   \n",
       "1                      0.131                     355921.0   \n",
       "2                      0.142                     386082.0   \n",
       "3                      0.149                     391295.0   \n",
       "4                      0.142                     388945.0   \n",
       "\n",
       "   User returning rate  Commissioner continue from last year  \\\n",
       "0                  NaN                                   NaN   \n",
       "1                0.509                               36635.0   \n",
       "2                0.497                               40914.0   \n",
       "3                0.449                               42485.0   \n",
       "4                0.462                               43629.0   \n",
       "\n",
       "   commissioner continuing rate  Commissioner return from last year  \\\n",
       "0                           NaN                                 NaN   \n",
       "1                         0.360                             53255.0   \n",
       "2                         0.332                             59027.0   \n",
       "3                         0.339                             60111.0   \n",
       "4                         0.355                             61124.0   \n",
       "\n",
       "   Commissioner returning rate  Player return rom last year  \\\n",
       "0                          NaN                          NaN   \n",
       "1                        0.597                     302666.0   \n",
       "2                        0.580                     327055.0   \n",
       "3                        0.487                     331184.0   \n",
       "4                        0.488                     327821.0   \n",
       "\n",
       "   Player returning rate  Player to commissioner  Number of cash users  \\\n",
       "0                    NaN                     NaN                   NaN   \n",
       "1                  0.496                 18891.0                   0.0   \n",
       "2                  0.485                 17564.0                   0.0   \n",
       "3                  0.443                 19406.0                   0.0   \n",
       "4                  0.458                 17535.0                   0.0   \n",
       "\n",
       "   Avg money spent by each user  \n",
       "0                           NaN  \n",
       "1                           0.0  \n",
       "2                           0.0  \n",
       "3                           0.0  \n",
       "4                           0.0  "
      ]
     },
     "execution_count": 16,
     "metadata": {},
     "output_type": "execute_result"
    }
   ],
   "source": [
    "his.head()"
   ]
  },
  {
   "cell_type": "code",
   "execution_count": null,
   "metadata": {
    "collapsed": true
   },
   "outputs": [],
   "source": []
  }
 ],
 "metadata": {
  "kernelspec": {
   "display_name": "Python 2",
   "language": "python",
   "name": "python2"
  },
  "language_info": {
   "codemirror_mode": {
    "name": "ipython",
    "version": 2
   },
   "file_extension": ".py",
   "mimetype": "text/x-python",
   "name": "python",
   "nbconvert_exporter": "python",
   "pygments_lexer": "ipython2",
   "version": "2.7.13"
  }
 },
 "nbformat": 4,
 "nbformat_minor": 2
}
